{
 "cells": [
  {
   "cell_type": "code",
   "execution_count": 86,
   "metadata": {},
   "outputs": [],
   "source": [
    "from seleniumwire import webdriver\n",
    "from selenium.webdriver.common.by import By\n",
    "from selenium.webdriver.chrome.options import Options\n",
    "from bs4 import BeautifulSoup\n",
    "import requests\n",
    "import random\n",
    "import os\n",
    "import time"
   ]
  },
  {
   "cell_type": "code",
   "execution_count": 88,
   "metadata": {},
   "outputs": [],
   "source": [
    "url = \"https://www.am730.com.hk/daily-news?cat=&date=2020-11-02\"\n",
    "\n",
    "direct = \"am730/\""
   ]
  },
  {
   "cell_type": "code",
   "execution_count": 37,
   "metadata": {},
   "outputs": [],
   "source": [
    "proxy_address = \"brd.superproxy.io\"\n",
    "proxy_port = 22225\n",
    "proxy_username = \"brd-customer-hl_4abea413-zone-data_center\"\n",
    "proxy_password = \"lmz4ftfwixm4\"\n",
    "\n",
    "proxy_options = {\n",
    "    'proxy': {\n",
    "        'http': f'http://{proxy_username}:{proxy_password}@{proxy_address}:{proxy_port}',\n",
    "        'https': f'https://{proxy_username}:{proxy_password}@{proxy_address}:{proxy_port}',\n",
    "        'request_interceptor': True,\n",
    "        'response_interceptor': True,\n",
    "        'no_proxy': 'localhost,127.0.0.1'  # Optional: Exclude certain URLs from proxying\n",
    "    }\n",
    "}\n",
    "\n",
    "chrome_options = Options()\n",
    "chrome_options.add_argument(\"--blink-settings=imagesEnabled=false\")\n",
    "\n",
    "driver = webdriver.Chrome(seleniumwire_options=proxy_options, chrome_options=chrome_options)"
   ]
  },
  {
   "cell_type": "code",
   "execution_count": 30,
   "metadata": {},
   "outputs": [],
   "source": [
    "date = url[-10:]\n",
    "\n",
    "driver.get(url)\n",
    "\n"
   ]
  },
  {
   "cell_type": "code",
   "execution_count": 34,
   "metadata": {},
   "outputs": [
    {
     "ename": "ElementClickInterceptedException",
     "evalue": "Message: element click intercepted: Element <div role=\"button\" class=\"btn btn-white border mx-2 mb-2\">...</div> is not clickable at point (1093, 1253). Other element would receive the click: <div class=\"gdprbox--inner fluid\">...</div>\n  (Session info: chrome=118.0.5993.70)\nStacktrace:\n\tGetHandleVerifier [0x00007FF6B52A8EF2+54786]\n\t(No symbol) [0x00007FF6B5215612]\n\t(No symbol) [0x00007FF6B50CA64B]\n\t(No symbol) [0x00007FF6B5111A6B]\n\t(No symbol) [0x00007FF6B510FE39]\n\t(No symbol) [0x00007FF6B510DC08]\n\t(No symbol) [0x00007FF6B510CCC3]\n\t(No symbol) [0x00007FF6B51029CF]\n\t(No symbol) [0x00007FF6B512BE6A]\n\t(No symbol) [0x00007FF6B51022E6]\n\t(No symbol) [0x00007FF6B512C080]\n\t(No symbol) [0x00007FF6B5144D02]\n\t(No symbol) [0x00007FF6B512BC43]\n\t(No symbol) [0x00007FF6B5100941]\n\t(No symbol) [0x00007FF6B5101B84]\n\tGetHandleVerifier [0x00007FF6B55F7F52+3524194]\n\tGetHandleVerifier [0x00007FF6B564D800+3874576]\n\tGetHandleVerifier [0x00007FF6B5645D7F+3843215]\n\tGetHandleVerifier [0x00007FF6B5345086+694166]\n\t(No symbol) [0x00007FF6B5220A88]\n\t(No symbol) [0x00007FF6B521CA94]\n\t(No symbol) [0x00007FF6B521CBC2]\n\t(No symbol) [0x00007FF6B520CC83]\n\tBaseThreadInitThunk [0x00007FF85D54257D+29]\n\tRtlUserThreadStart [0x00007FF85DFAAA78+40]\n",
     "output_type": "error",
     "traceback": [
      "\u001b[1;31m---------------------------------------------------------------------------\u001b[0m",
      "\u001b[1;31mElementClickInterceptedException\u001b[0m          Traceback (most recent call last)",
      "\u001b[1;32mc:\\Users\\walte\\Documents\\CCGL9011\\am730.ipynb Cell 5\u001b[0m line \u001b[0;36m2\n\u001b[0;32m     <a href='vscode-notebook-cell:/c%3A/Users/walte/Documents/CCGL9011/am730.ipynb#W4sZmlsZQ%3D%3D?line=17'>18</a>\u001b[0m driver\u001b[39m.\u001b[39mimplicitly_wait(\u001b[39m1\u001b[39m)\n\u001b[0;32m     <a href='vscode-notebook-cell:/c%3A/Users/walte/Documents/CCGL9011/am730.ipynb#W4sZmlsZQ%3D%3D?line=19'>20</a>\u001b[0m time\u001b[39m.\u001b[39msleep(\u001b[39m2\u001b[39m)\n\u001b[1;32m---> <a href='vscode-notebook-cell:/c%3A/Users/walte/Documents/CCGL9011/am730.ipynb#W4sZmlsZQ%3D%3D?line=21'>22</a>\u001b[0m click_element\u001b[39m.\u001b[39;49mclick()\n\u001b[0;32m     <a href='vscode-notebook-cell:/c%3A/Users/walte/Documents/CCGL9011/am730.ipynb#W4sZmlsZQ%3D%3D?line=23'>24</a>\u001b[0m time\u001b[39m.\u001b[39msleep(\u001b[39m18\u001b[39m)\n",
      "File \u001b[1;32m~\\AppData\\Local\\Packages\\PythonSoftwareFoundation.Python.3.11_qbz5n2kfra8p0\\LocalCache\\local-packages\\Python311\\site-packages\\selenium\\webdriver\\remote\\webelement.py:93\u001b[0m, in \u001b[0;36mWebElement.click\u001b[1;34m(self)\u001b[0m\n\u001b[0;32m     91\u001b[0m \u001b[39mdef\u001b[39;00m \u001b[39mclick\u001b[39m(\u001b[39mself\u001b[39m) \u001b[39m-\u001b[39m\u001b[39m>\u001b[39m \u001b[39mNone\u001b[39;00m:\n\u001b[0;32m     92\u001b[0m \u001b[39m    \u001b[39m\u001b[39m\"\"\"Clicks the element.\"\"\"\u001b[39;00m\n\u001b[1;32m---> 93\u001b[0m     \u001b[39mself\u001b[39;49m\u001b[39m.\u001b[39;49m_execute(Command\u001b[39m.\u001b[39;49mCLICK_ELEMENT)\n",
      "File \u001b[1;32m~\\AppData\\Local\\Packages\\PythonSoftwareFoundation.Python.3.11_qbz5n2kfra8p0\\LocalCache\\local-packages\\Python311\\site-packages\\selenium\\webdriver\\remote\\webelement.py:394\u001b[0m, in \u001b[0;36mWebElement._execute\u001b[1;34m(self, command, params)\u001b[0m\n\u001b[0;32m    392\u001b[0m     params \u001b[39m=\u001b[39m {}\n\u001b[0;32m    393\u001b[0m params[\u001b[39m\"\u001b[39m\u001b[39mid\u001b[39m\u001b[39m\"\u001b[39m] \u001b[39m=\u001b[39m \u001b[39mself\u001b[39m\u001b[39m.\u001b[39m_id\n\u001b[1;32m--> 394\u001b[0m \u001b[39mreturn\u001b[39;00m \u001b[39mself\u001b[39;49m\u001b[39m.\u001b[39;49m_parent\u001b[39m.\u001b[39;49mexecute(command, params)\n",
      "File \u001b[1;32m~\\AppData\\Local\\Packages\\PythonSoftwareFoundation.Python.3.11_qbz5n2kfra8p0\\LocalCache\\local-packages\\Python311\\site-packages\\selenium\\webdriver\\remote\\webdriver.py:344\u001b[0m, in \u001b[0;36mWebDriver.execute\u001b[1;34m(self, driver_command, params)\u001b[0m\n\u001b[0;32m    342\u001b[0m response \u001b[39m=\u001b[39m \u001b[39mself\u001b[39m\u001b[39m.\u001b[39mcommand_executor\u001b[39m.\u001b[39mexecute(driver_command, params)\n\u001b[0;32m    343\u001b[0m \u001b[39mif\u001b[39;00m response:\n\u001b[1;32m--> 344\u001b[0m     \u001b[39mself\u001b[39;49m\u001b[39m.\u001b[39;49merror_handler\u001b[39m.\u001b[39;49mcheck_response(response)\n\u001b[0;32m    345\u001b[0m     response[\u001b[39m\"\u001b[39m\u001b[39mvalue\u001b[39m\u001b[39m\"\u001b[39m] \u001b[39m=\u001b[39m \u001b[39mself\u001b[39m\u001b[39m.\u001b[39m_unwrap_value(response\u001b[39m.\u001b[39mget(\u001b[39m\"\u001b[39m\u001b[39mvalue\u001b[39m\u001b[39m\"\u001b[39m, \u001b[39mNone\u001b[39;00m))\n\u001b[0;32m    346\u001b[0m     \u001b[39mreturn\u001b[39;00m response\n",
      "File \u001b[1;32m~\\AppData\\Local\\Packages\\PythonSoftwareFoundation.Python.3.11_qbz5n2kfra8p0\\LocalCache\\local-packages\\Python311\\site-packages\\selenium\\webdriver\\remote\\errorhandler.py:229\u001b[0m, in \u001b[0;36mErrorHandler.check_response\u001b[1;34m(self, response)\u001b[0m\n\u001b[0;32m    227\u001b[0m         alert_text \u001b[39m=\u001b[39m value[\u001b[39m\"\u001b[39m\u001b[39malert\u001b[39m\u001b[39m\"\u001b[39m]\u001b[39m.\u001b[39mget(\u001b[39m\"\u001b[39m\u001b[39mtext\u001b[39m\u001b[39m\"\u001b[39m)\n\u001b[0;32m    228\u001b[0m     \u001b[39mraise\u001b[39;00m exception_class(message, screen, stacktrace, alert_text)  \u001b[39m# type: ignore[call-arg]  # mypy is not smart enough here\u001b[39;00m\n\u001b[1;32m--> 229\u001b[0m \u001b[39mraise\u001b[39;00m exception_class(message, screen, stacktrace)\n",
      "\u001b[1;31mElementClickInterceptedException\u001b[0m: Message: element click intercepted: Element <div role=\"button\" class=\"btn btn-white border mx-2 mb-2\">...</div> is not clickable at point (1093, 1253). Other element would receive the click: <div class=\"gdprbox--inner fluid\">...</div>\n  (Session info: chrome=118.0.5993.70)\nStacktrace:\n\tGetHandleVerifier [0x00007FF6B52A8EF2+54786]\n\t(No symbol) [0x00007FF6B5215612]\n\t(No symbol) [0x00007FF6B50CA64B]\n\t(No symbol) [0x00007FF6B5111A6B]\n\t(No symbol) [0x00007FF6B510FE39]\n\t(No symbol) [0x00007FF6B510DC08]\n\t(No symbol) [0x00007FF6B510CCC3]\n\t(No symbol) [0x00007FF6B51029CF]\n\t(No symbol) [0x00007FF6B512BE6A]\n\t(No symbol) [0x00007FF6B51022E6]\n\t(No symbol) [0x00007FF6B512C080]\n\t(No symbol) [0x00007FF6B5144D02]\n\t(No symbol) [0x00007FF6B512BC43]\n\t(No symbol) [0x00007FF6B5100941]\n\t(No symbol) [0x00007FF6B5101B84]\n\tGetHandleVerifier [0x00007FF6B55F7F52+3524194]\n\tGetHandleVerifier [0x00007FF6B564D800+3874576]\n\tGetHandleVerifier [0x00007FF6B5645D7F+3843215]\n\tGetHandleVerifier [0x00007FF6B5345086+694166]\n\t(No symbol) [0x00007FF6B5220A88]\n\t(No symbol) [0x00007FF6B521CA94]\n\t(No symbol) [0x00007FF6B521CBC2]\n\t(No symbol) [0x00007FF6B520CC83]\n\tBaseThreadInitThunk [0x00007FF85D54257D+29]\n\tRtlUserThreadStart [0x00007FF85DFAAA78+40]\n"
     ]
    }
   ],
   "source": [
    "click_element = driver.find_element(By.CSS_SELECTOR, \"div.btn.btn-white.border.mx-2.mb-2\")\n",
    "\n",
    "per = len(driver.find_elements(By.CSS_SELECTOR, \"div.columnlist\")) + len(driver.find_elements(By.CSS_SELECTOR, \"div.newslist\"))\n",
    "\n",
    "driver.implicitly_wait(1)\n",
    "\n",
    "time.sleep(2)\n",
    "\n",
    "click_element.click()\n",
    "\n",
    "time.sleep(20)\n",
    "\n",
    "while (len(driver.find_elements(By.CSS_SELECTOR, \"div.columnlist\")) + len(driver.find_elements(By.CSS_SELECTOR, \"div.newslist\")) > per):\n",
    "    #click_element = driver.find_element(By.CSS_SELECTOR, \"div.btn.btn-white.border.mx-2.mb-2\")\n",
    "\n",
    "    per = len(driver.find_elements(By.CSS_SELECTOR, \"div.columnlist\")) + len(driver.find_elements(By.CSS_SELECTOR, \"div.newslist\"))\n",
    "\n",
    "    driver.implicitly_wait(1)\n",
    "\n",
    "    time.sleep(2)\n",
    "\n",
    "    click_element.click()\n",
    "\n",
    "    time.sleep(18)"
   ]
  },
  {
   "cell_type": "code",
   "execution_count": 76,
   "metadata": {},
   "outputs": [],
   "source": [
    "base_url = \"https://www.am730.com.hk\"\n",
    "\n",
    "links = []\n",
    "\n",
    "topics = []\n",
    "\n",
    "blog_links = []"
   ]
  },
  {
   "cell_type": "code",
   "execution_count": 77,
   "metadata": {},
   "outputs": [
    {
     "ename": "NoSuchWindowException",
     "evalue": "Message: no such window: target window already closed\nfrom unknown error: web view not found\n  (Session info: chrome=118.0.5993.70)\nStacktrace:\n\tGetHandleVerifier [0x00007FF6B52A8EF2+54786]\n\t(No symbol) [0x00007FF6B5215612]\n\t(No symbol) [0x00007FF6B50CA64B]\n\t(No symbol) [0x00007FF6B50AA9F5]\n\t(No symbol) [0x00007FF6B5130887]\n\t(No symbol) [0x00007FF6B51443CF]\n\t(No symbol) [0x00007FF6B512BC43]\n\t(No symbol) [0x00007FF6B5100941]\n\t(No symbol) [0x00007FF6B5101B84]\n\tGetHandleVerifier [0x00007FF6B55F7F52+3524194]\n\tGetHandleVerifier [0x00007FF6B564D800+3874576]\n\tGetHandleVerifier [0x00007FF6B5645D7F+3843215]\n\tGetHandleVerifier [0x00007FF6B5345086+694166]\n\t(No symbol) [0x00007FF6B5220A88]\n\t(No symbol) [0x00007FF6B521CA94]\n\t(No symbol) [0x00007FF6B521CBC2]\n\t(No symbol) [0x00007FF6B520CC83]\n\tBaseThreadInitThunk [0x00007FF85D54257D+29]\n\tRtlUserThreadStart [0x00007FF85DFAAA78+40]\n",
     "output_type": "error",
     "traceback": [
      "\u001b[1;31m---------------------------------------------------------------------------\u001b[0m",
      "\u001b[1;31mNoSuchWindowException\u001b[0m                     Traceback (most recent call last)",
      "\u001b[1;32mc:\\Users\\walte\\Documents\\CCGL9011\\am730.ipynb Cell 7\u001b[0m line \u001b[0;36m1\n\u001b[1;32m----> <a href='vscode-notebook-cell:/c%3A/Users/walte/Documents/CCGL9011/am730.ipynb#W6sZmlsZQ%3D%3D?line=0'>1</a>\u001b[0m soup \u001b[39m=\u001b[39m BeautifulSoup(driver\u001b[39m.\u001b[39;49mpage_source, \u001b[39m\"\u001b[39m\u001b[39mhtml.parser\u001b[39m\u001b[39m\"\u001b[39m)\n\u001b[0;32m      <a href='vscode-notebook-cell:/c%3A/Users/walte/Documents/CCGL9011/am730.ipynb#W6sZmlsZQ%3D%3D?line=2'>3</a>\u001b[0m soup\n",
      "File \u001b[1;32m~\\AppData\\Local\\Packages\\PythonSoftwareFoundation.Python.3.11_qbz5n2kfra8p0\\LocalCache\\local-packages\\Python311\\site-packages\\selenium\\webdriver\\remote\\webdriver.py:445\u001b[0m, in \u001b[0;36mWebDriver.page_source\u001b[1;34m(self)\u001b[0m\n\u001b[0;32m    436\u001b[0m \u001b[39m@property\u001b[39m\n\u001b[0;32m    437\u001b[0m \u001b[39mdef\u001b[39;00m \u001b[39mpage_source\u001b[39m(\u001b[39mself\u001b[39m) \u001b[39m-\u001b[39m\u001b[39m>\u001b[39m \u001b[39mstr\u001b[39m:\n\u001b[0;32m    438\u001b[0m \u001b[39m    \u001b[39m\u001b[39m\"\"\"Gets the source of the current page.\u001b[39;00m\n\u001b[0;32m    439\u001b[0m \n\u001b[0;32m    440\u001b[0m \u001b[39m    :Usage:\u001b[39;00m\n\u001b[1;32m   (...)\u001b[0m\n\u001b[0;32m    443\u001b[0m \u001b[39m            driver.page_source\u001b[39;00m\n\u001b[0;32m    444\u001b[0m \u001b[39m    \"\"\"\u001b[39;00m\n\u001b[1;32m--> 445\u001b[0m     \u001b[39mreturn\u001b[39;00m \u001b[39mself\u001b[39;49m\u001b[39m.\u001b[39;49mexecute(Command\u001b[39m.\u001b[39;49mGET_PAGE_SOURCE)[\u001b[39m\"\u001b[39m\u001b[39mvalue\u001b[39m\u001b[39m\"\u001b[39m]\n",
      "File \u001b[1;32m~\\AppData\\Local\\Packages\\PythonSoftwareFoundation.Python.3.11_qbz5n2kfra8p0\\LocalCache\\local-packages\\Python311\\site-packages\\selenium\\webdriver\\remote\\webdriver.py:344\u001b[0m, in \u001b[0;36mWebDriver.execute\u001b[1;34m(self, driver_command, params)\u001b[0m\n\u001b[0;32m    342\u001b[0m response \u001b[39m=\u001b[39m \u001b[39mself\u001b[39m\u001b[39m.\u001b[39mcommand_executor\u001b[39m.\u001b[39mexecute(driver_command, params)\n\u001b[0;32m    343\u001b[0m \u001b[39mif\u001b[39;00m response:\n\u001b[1;32m--> 344\u001b[0m     \u001b[39mself\u001b[39;49m\u001b[39m.\u001b[39;49merror_handler\u001b[39m.\u001b[39;49mcheck_response(response)\n\u001b[0;32m    345\u001b[0m     response[\u001b[39m\"\u001b[39m\u001b[39mvalue\u001b[39m\u001b[39m\"\u001b[39m] \u001b[39m=\u001b[39m \u001b[39mself\u001b[39m\u001b[39m.\u001b[39m_unwrap_value(response\u001b[39m.\u001b[39mget(\u001b[39m\"\u001b[39m\u001b[39mvalue\u001b[39m\u001b[39m\"\u001b[39m, \u001b[39mNone\u001b[39;00m))\n\u001b[0;32m    346\u001b[0m     \u001b[39mreturn\u001b[39;00m response\n",
      "File \u001b[1;32m~\\AppData\\Local\\Packages\\PythonSoftwareFoundation.Python.3.11_qbz5n2kfra8p0\\LocalCache\\local-packages\\Python311\\site-packages\\selenium\\webdriver\\remote\\errorhandler.py:229\u001b[0m, in \u001b[0;36mErrorHandler.check_response\u001b[1;34m(self, response)\u001b[0m\n\u001b[0;32m    227\u001b[0m         alert_text \u001b[39m=\u001b[39m value[\u001b[39m\"\u001b[39m\u001b[39malert\u001b[39m\u001b[39m\"\u001b[39m]\u001b[39m.\u001b[39mget(\u001b[39m\"\u001b[39m\u001b[39mtext\u001b[39m\u001b[39m\"\u001b[39m)\n\u001b[0;32m    228\u001b[0m     \u001b[39mraise\u001b[39;00m exception_class(message, screen, stacktrace, alert_text)  \u001b[39m# type: ignore[call-arg]  # mypy is not smart enough here\u001b[39;00m\n\u001b[1;32m--> 229\u001b[0m \u001b[39mraise\u001b[39;00m exception_class(message, screen, stacktrace)\n",
      "\u001b[1;31mNoSuchWindowException\u001b[0m: Message: no such window: target window already closed\nfrom unknown error: web view not found\n  (Session info: chrome=118.0.5993.70)\nStacktrace:\n\tGetHandleVerifier [0x00007FF6B52A8EF2+54786]\n\t(No symbol) [0x00007FF6B5215612]\n\t(No symbol) [0x00007FF6B50CA64B]\n\t(No symbol) [0x00007FF6B50AA9F5]\n\t(No symbol) [0x00007FF6B5130887]\n\t(No symbol) [0x00007FF6B51443CF]\n\t(No symbol) [0x00007FF6B512BC43]\n\t(No symbol) [0x00007FF6B5100941]\n\t(No symbol) [0x00007FF6B5101B84]\n\tGetHandleVerifier [0x00007FF6B55F7F52+3524194]\n\tGetHandleVerifier [0x00007FF6B564D800+3874576]\n\tGetHandleVerifier [0x00007FF6B5645D7F+3843215]\n\tGetHandleVerifier [0x00007FF6B5345086+694166]\n\t(No symbol) [0x00007FF6B5220A88]\n\t(No symbol) [0x00007FF6B521CA94]\n\t(No symbol) [0x00007FF6B521CBC2]\n\t(No symbol) [0x00007FF6B520CC83]\n\tBaseThreadInitThunk [0x00007FF85D54257D+29]\n\tRtlUserThreadStart [0x00007FF85DFAAA78+40]\n"
     ]
    }
   ],
   "source": [
    "soup = BeautifulSoup(driver.page_source, \"html.parser\")\n",
    "\n",
    "soup"
   ]
  },
  {
   "cell_type": "code",
   "execution_count": 78,
   "metadata": {},
   "outputs": [
    {
     "data": {
      "text/plain": [
       "[<div class=\"newsprime\"><div class=\"newsitem\"><figure class=\"newsitem-pic\" js-hex=\"#2350A9\" style=\"border-bottom-color: rgb(35, 80, 169);\"><a href=\"/本地/網購墮貨毀賠償連環局-深圳女被騙5萬人民幣/2181\"><img alt=\"網購墮貨毀賠償連環局 深圳女被騙5萬人民幣\" class=\"newsitem-img lazy entered loaded\" data-ll-status=\"loaded\" data-src=\"https://d5ttlem47o98b.cloudfront.net/s3fs-public/styles/cover_720_thumbnail/public/styles/banner/public/news_cover/1604261769_8x.jpg?itok=jCnsN4yR\" src=\"https://d5ttlem47o98b.cloudfront.net/s3fs-public/styles/cover_720_thumbnail/public/styles/banner/public/news_cover/1604261769_8x.jpg?itok=jCnsN4yR\"/></a> <div class=\"newsitem-type badge-edition bg-slate\"><i class=\"ico ico-newspaper\"></i>日報</div></figure> <div class=\"newsitem-entry\"><h6 class=\"newsitem-title\"><a href=\"/本地/網購墮貨毀賠償連環局-深圳女被騙5萬人民幣/2181\">網購墮貨毀賠償連環局 深圳女被騙5萬人民幣</a></h6> <div class=\"newsitem-meta\"><div class=\"newsitem-unit\"><a class=\"badge\" href=\"/本地\" js-hex=\"#2350A9\" style=\"background-color: rgb(35, 80, 169);\">本地</a></div> <div class=\"newsitem-time\">2年前</div></div></div></div></div>]"
      ]
     },
     "execution_count": 78,
     "metadata": {},
     "output_type": "execute_result"
    }
   ],
   "source": [
    "content_elements = soup.find_all(class_=\"newsprime\")"
   ]
  },
  {
   "cell_type": "code",
   "execution_count": 79,
   "metadata": {},
   "outputs": [
    {
     "data": {
      "text/plain": [
       "['網購墮貨毀賠償連環局-深圳女被騙5萬人民幣']"
      ]
     },
     "execution_count": 79,
     "metadata": {},
     "output_type": "execute_result"
    }
   ],
   "source": [
    "links.append(base_url + content_elements[0].findAll(\"a\")[0].get(\"href\"))\n",
    "topics.append(content_elements[0].findAll(\"a\")[0].get(\"href\").split(\"/\")[-2])"
   ]
  },
  {
   "cell_type": "code",
   "execution_count": 80,
   "metadata": {},
   "outputs": [
    {
     "data": {
      "text/plain": [
       "['網購墮貨毀賠償連環局-深圳女被騙5萬人民幣',\n",
       " '增61無症狀感染者-新疆喀什疫情蔓延鄰州',\n",
       " '推-安心出行-app記錄行蹤-張建宗-紀錄只存於用戶手機']"
      ]
     },
     "execution_count": 80,
     "metadata": {},
     "output_type": "execute_result"
    }
   ],
   "source": [
    "content_elements = soup.find_all(class_=\"newstwo\")[0]\n",
    "\n",
    "for i in content_elements.find_all(class_=\"newsitem\"):\n",
    "    links.append(base_url + i.findAll(\"a\")[0].get(\"href\"))\n",
    "    topics.append(i.findAll(\"a\")[0].get(\"href\").split(\"/\")[-2])"
   ]
  },
  {
   "cell_type": "code",
   "execution_count": 81,
   "metadata": {},
   "outputs": [
    {
     "data": {
      "text/plain": [
       "<div class=\"newslist\"><ul class=\"newslist-row\"><li class=\"newslist-item\"><div class=\"newsitem\"><figure class=\"newsitem-pic\" js-hex=\"#7725FF\" style=\"border-bottom-color: rgb(119, 37, 255);\"><a href=\"/娛樂/第一代占士邦-辛康納利遺照曝光/2165\"><img alt=\"第一代占士邦 辛康納利遺照曝光\" class=\"newsitem-img\" src=\"https://d5ttlem47o98b.cloudfront.net/s3fs-public/styles/cover_720_thumbnail/public/styles/banner/public/news_cover/1604255902_bk.jpg?itok=QoXNiTV3\"/></a> <div class=\"newsitem-type badge-edition bg-slate\"><i class=\"ico ico-newspaper\"></i>日報</div></figure> <div class=\"newsitem-entry\"><h6 class=\"newsitem-title\"><a href=\"/娛樂/第一代占士邦-辛康納利遺照曝光/2165\">第一代占士邦 辛康納利遺照曝光</a></h6> <div class=\"newsitem-meta\"><div class=\"newsitem-unit\"><a class=\"badge\" href=\"/娛樂\" js-hex=\"#7725FF\" style=\"background-color: rgb(119, 37, 255);\">娛樂</a></div> <div class=\"newsitem-time\">2年前</div></div></div></div></li><li class=\"newslist-item\"><div class=\"newsitem\"><figure class=\"newsitem-pic\" js-hex=\"#7725FF\" style=\"border-bottom-color: rgb(119, 37, 255);\"><a href=\"/娛樂/-王冠-第4季揭戴妃秘史/2164\"><img alt=\"《王冠》第4季揭戴妃秘史\" class=\"newsitem-img\" src=\"https://d5ttlem47o98b.cloudfront.net/s3fs-public/styles/cover_720_thumbnail/public/styles/banner/public/news_cover/1604255907_eC.jpg?itok=l9umZq0k\"/></a> <div class=\"newsitem-type badge-edition bg-slate\"><i class=\"ico ico-newspaper\"></i>日報</div></figure> <div class=\"newsitem-entry\"><h6 class=\"newsitem-title\"><a href=\"/娛樂/-王冠-第4季揭戴妃秘史/2164\">《王冠》第4季揭戴妃秘史</a></h6> <div class=\"newsitem-meta\"><div class=\"newsitem-unit\"><a class=\"badge\" href=\"/娛樂\" js-hex=\"#7725FF\" style=\"background-color: rgb(119, 37, 255);\">娛樂</a></div> <div class=\"newsitem-time\">2年前</div></div></div></div></li><li class=\"newslist-item\"><div class=\"newsitem\"><figure class=\"newsitem-pic\" js-hex=\"#7725FF\" style=\"border-bottom-color: rgb(119, 37, 255);\"><a href=\"/娛樂/-鬼滅之刃-破千萬人次紀錄/2163\"><img alt=\"《鬼滅之刃》 破千萬人次紀錄\" class=\"newsitem-img\" src=\"https://d5ttlem47o98b.cloudfront.net/s3fs-public/styles/cover_720_thumbnail/public/styles/banner/public/news_cover/1604255904_EQ.jpg?itok=eQjVX-LI\"/></a> <div class=\"newsitem-type badge-edition bg-slate\"><i class=\"ico ico-newspaper\"></i>日報</div></figure> <div class=\"newsitem-entry\"><h6 class=\"newsitem-title\"><a href=\"/娛樂/-鬼滅之刃-破千萬人次紀錄/2163\">《鬼滅之刃》 破千萬人次紀錄</a></h6> <div class=\"newsitem-meta\"><div class=\"newsitem-unit\"><a class=\"badge\" href=\"/娛樂\" js-hex=\"#7725FF\" style=\"background-color: rgb(119, 37, 255);\">娛樂</a></div> <div class=\"newsitem-time\">2年前</div></div></div></div></li><li class=\"newslist-item\"><div class=\"newsitem\"><figure class=\"newsitem-pic\" js-hex=\"#7725FF\" style=\"border-bottom-color: rgb(119, 37, 255);\"><a href=\"/娛樂/白石麻衣開ig-即吸24萬fans/2162\"><img alt=\"白石麻衣開IG 即吸24萬fans\" class=\"newsitem-img\" src=\"https://d5ttlem47o98b.cloudfront.net/s3fs-public/styles/cover_720_thumbnail/public/styles/banner/public/news_cover/1604255910_x3.jpg?itok=we-U2aiQ\"/></a> <div class=\"newsitem-type badge-edition bg-slate\"><i class=\"ico ico-newspaper\"></i>日報</div></figure> <div class=\"newsitem-entry\"><h6 class=\"newsitem-title\"><a href=\"/娛樂/白石麻衣開ig-即吸24萬fans/2162\">白石麻衣開IG 即吸24萬fans</a></h6> <div class=\"newsitem-meta\"><div class=\"newsitem-unit\"><a class=\"badge\" href=\"/娛樂\" js-hex=\"#7725FF\" style=\"background-color: rgb(119, 37, 255);\">娛樂</a></div> <div class=\"newsitem-time\">2年前</div></div></div></div></li><li class=\"newslist-item\"><div class=\"newsitem\"><figure class=\"newsitem-pic\" js-hex=\"#D51588\" style=\"border-bottom-color: rgb(213, 21, 136);\"><a href=\"/生活/科技/12gb-ram冰川綠sony-xperia-1-ii開賣-搶先入手送-鬼滅-手機殼/2161\"><img alt=\"12GB RAM冰川綠Sony Xperia 1 II開賣 搶先入手送《鬼滅》手機殼\" class=\"newsitem-img\" src=\"https://d5ttlem47o98b.cloudfront.net/s3fs-public/styles/cover_720_thumbnail/public/styles/banner/public/news_cover/1604254234_ym.jpg?itok=PzPIPjt3\"/></a> <div class=\"newsitem-type badge-edition bg-slate\"><i class=\"ico ico-newspaper\"></i>日報</div></figure> <div class=\"newsitem-entry\"><h6 class=\"newsitem-title\"><a href=\"/生活/科技/12gb-ram冰川綠sony-xperia-1-ii開賣-搶先入手送-鬼滅-手機殼/2161\">12GB RAM冰川綠Sony Xperia 1 II開賣 搶先入手送《鬼滅》手機殼</a></h6> <div class=\"newsitem-meta\"><div class=\"newsitem-unit\"><a class=\"badge\" href=\"/生活/科技\" js-hex=\"#D51588\" style=\"background-color: rgb(213, 21, 136);\">科技</a></div> <div class=\"newsitem-time\">2年前</div></div></div></div></li><li class=\"newslist-item\"><div class=\"newsitem\"><figure class=\"newsitem-pic\" js-hex=\"#D51588\" style=\"border-bottom-color: rgb(213, 21, 136);\"><a href=\"/生活/科技/三機齊發-周四直播預售兼派福利-mi-10t-5g系列到港/2160\"><img alt=\"三機齊發 周四直播預售兼派福利 Mi 10T 5G系列到港\" class=\"newsitem-img\" src=\"https://d5ttlem47o98b.cloudfront.net/s3fs-public/styles/cover_720_thumbnail/public/styles/banner/public/news_cover/1604253866_BW.jpg?itok=YOMZwgYe\"/></a> <div class=\"newsitem-type badge-edition bg-slate\"><i class=\"ico ico-newspaper\"></i>日報</div></figure> <div class=\"newsitem-entry\"><h6 class=\"newsitem-title\"><a href=\"/生活/科技/三機齊發-周四直播預售兼派福利-mi-10t-5g系列到港/2160\">三機齊發 周四直播預售兼派福利 Mi 10T 5G系列到港</a></h6> <div class=\"newsitem-meta\"><div class=\"newsitem-unit\"><a class=\"badge\" href=\"/生活/科技\" js-hex=\"#D51588\" style=\"background-color: rgb(213, 21, 136);\">科技</a></div> <div class=\"newsitem-time\">2年前</div></div></div></div></li><li class=\"newslist-item\"><div class=\"newsitem\"><figure class=\"newsitem-pic\" js-hex=\"#D51588\" style=\"border-bottom-color: rgb(213, 21, 136);\"><a href=\"/生活/科技/消除黏附病菌-高危場所必備-panasonic-ziaino次氯酸空間除菌脫臭機/2159\"><img alt=\"消除黏附病菌  高危場所必備 Panasonic Ziaino次氯酸空間除菌脫臭機\" class=\"newsitem-img\" src=\"https://d5ttlem47o98b.cloudfront.net/s3fs-public/styles/cover_720_thumbnail/public/styles/banner/public/news_cover/1604253884_bZ.jpg?itok=TqPOWv6L\"/></a> <div class=\"newsitem-type badge-edition bg-slate\"><i class=\"ico ico-newspaper\"></i>日報</div></figure> <div class=\"newsitem-entry\"><h6 class=\"newsitem-title\"><a href=\"/生活/科技/消除黏附病菌-高危場所必備-panasonic-ziaino次氯酸空間除菌脫臭機/2159\">消除黏附病菌  高危場所必備 Panasonic Ziaino次氯酸空間除菌脫臭機</a></h6> <div class=\"newsitem-meta\"><div class=\"newsitem-unit\"><a class=\"badge\" href=\"/生活/科技\" js-hex=\"#D51588\" style=\"background-color: rgb(213, 21, 136);\">科技</a></div> <div class=\"newsitem-time\">2年前</div></div></div></div></li><li class=\"newslist-item\"><div class=\"newsitem\"><figure class=\"newsitem-pic\" js-hex=\"#33B430\" style=\"border-bottom-color: rgb(51, 180, 48);\"><a href=\"/體育/祖達奠勝-菲臘斯穩健-紅軍力挫韋斯咸/2157\"><img alt=\"祖達奠勝  菲臘斯穩健  紅軍力挫韋斯咸\" class=\"newsitem-img\" src=\"https://d5ttlem47o98b.cloudfront.net/s3fs-public/styles/cover_720_thumbnail/public/styles/banner/public/news_cover/1604253608_Ye.jpg?itok=c1MYUrRM\"/></a> <div class=\"newsitem-type badge-edition bg-slate\"><i class=\"ico ico-newspaper\"></i>日報</div></figure> <div class=\"newsitem-entry\"><h6 class=\"newsitem-title\"><a href=\"/體育/祖達奠勝-菲臘斯穩健-紅軍力挫韋斯咸/2157\">祖達奠勝  菲臘斯穩健  紅軍力挫韋斯咸</a></h6> <div class=\"newsitem-meta\"><div class=\"newsitem-unit\"><a class=\"badge\" href=\"/體育\" js-hex=\"#33B430\" style=\"background-color: rgb(51, 180, 48);\">體育</a></div> <div class=\"newsitem-time\">2年前</div></div></div></div></li><li class=\"newslist-item\"><div class=\"newsitem\"><figure class=\"newsitem-pic\" js-hex=\"#33B430\" style=\"border-bottom-color: rgb(51, 180, 48);\"><a href=\"/體育/-4場不勝-美斯忟憎省向球證-巴塞18年來西甲最差開季/2156\"><img alt=\"【4場不勝】美斯忟憎省向球證  巴塞18年來西甲最差開季\" class=\"newsitem-img\" src=\"https://d5ttlem47o98b.cloudfront.net/s3fs-public/styles/cover_720_thumbnail/public/styles/banner/public/news_cover/1604253611_zW.jpg?itok=3Uz2_BUY\"/></a> <div class=\"newsitem-type badge-edition bg-slate\"><i class=\"ico ico-newspaper\"></i>日報</div></figure> <div class=\"newsitem-entry\"><h6 class=\"newsitem-title\"><a href=\"/體育/-4場不勝-美斯忟憎省向球證-巴塞18年來西甲最差開季/2156\">【4場不勝】美斯忟憎省向球證  巴塞18年來西甲最差開季</a></h6> <div class=\"newsitem-meta\"><div class=\"newsitem-unit\"><a class=\"badge\" href=\"/體育\" js-hex=\"#33B430\" style=\"background-color: rgb(51, 180, 48);\">體育</a></div> <div class=\"newsitem-time\">2年前</div></div></div></div></li><li class=\"newslist-item\"><div class=\"newsitem\"><figure class=\"newsitem-pic\" js-hex=\"#D51588\" style=\"border-bottom-color: rgb(213, 21, 136);\"><a href=\"/生活/北角海逸酒店開放週-2020年11月5至11日-月租服務式住宿只需港幣-9-900起/2155\"><img alt=\"北角海逸酒店開放週(2020年11月5至11日) 月租服務式住宿只需港幣$9,900起\" class=\"newsitem-img\" src=\"https://d5ttlem47o98b.cloudfront.net/s3fs-public/styles/cover_720_thumbnail/public/styles/banner/public/news_cover/1604253150_hG.jpg?itok=N0HhA-Bu\"/></a> <div class=\"newsitem-type badge-edition bg-slate\"><i class=\"ico ico-newspaper\"></i>日報</div></figure> <div class=\"newsitem-entry\"><h6 class=\"newsitem-title\"><a href=\"/生活/北角海逸酒店開放週-2020年11月5至11日-月租服務式住宿只需港幣-9-900起/2155\">北角海逸酒店開放週(2020年11月5至11日) 月租服務式住宿只需港幣$9,900起</a></h6> <div class=\"newsitem-meta\"><div class=\"newsitem-unit\"><a class=\"badge\" href=\"/生活\" js-hex=\"#D51588\" style=\"background-color: rgb(213, 21, 136);\">生活</a></div> <div class=\"newsitem-time\">2年前</div></div></div></div></li><li class=\"newslist-item\"><div class=\"newsitem\"><figure class=\"newsitem-pic\" js-hex=\"#D51588\" style=\"border-bottom-color: rgb(213, 21, 136);\"><a href=\"/生活/親子/proluxury-普樂氏氣炸鍋-ecliving/2154\"><img alt=\"Proluxury 普樂氏氣炸鍋 @ ecLiving\" class=\"newsitem-img\" src=\"https://d5ttlem47o98b.cloudfront.net/s3fs-public/styles/cover_720_thumbnail/public/styles/banner/public/news_cover/1604253327_rt.jpg?itok=M7u_wnmS\"/></a> <div class=\"newsitem-type badge-edition bg-slate\"><i class=\"ico ico-newspaper\"></i>日報</div></figure> <div class=\"newsitem-entry\"><h6 class=\"newsitem-title\"><a href=\"/生活/親子/proluxury-普樂氏氣炸鍋-ecliving/2154\">Proluxury 普樂氏氣炸鍋 @ ecLiving</a></h6> <div class=\"newsitem-meta\"><div class=\"newsitem-unit\"><a class=\"badge\" href=\"/生活/親子\" js-hex=\"#D51588\" style=\"background-color: rgb(213, 21, 136);\">親子</a></div> <div class=\"newsitem-time\">2年前</div></div></div></div></li><li class=\"newslist-item\"><div class=\"newsitem\"><figure class=\"newsitem-pic\" js-hex=\"#2350A9\" style=\"border-bottom-color: rgb(35, 80, 169);\"><a href=\"/本地/危機處處-thei研究公共屋邨樹種-舊屋苑樹木倒塌風險較高/2153\"><img alt=\"危機處處 THEi研究公共屋邨樹種 舊屋苑樹木倒塌風險較高\" class=\"newsitem-img\" src=\"https://d5ttlem47o98b.cloudfront.net/s3fs-public/styles/cover_720_thumbnail/public/styles/banner/public/news_cover/1604253080_Oj.jpg?itok=9bev-yvZ\"/></a> <div class=\"newsitem-type badge-edition bg-slate\"><i class=\"ico ico-newspaper\"></i>日報</div></figure> <div class=\"newsitem-entry\"><h6 class=\"newsitem-title\"><a href=\"/本地/危機處處-thei研究公共屋邨樹種-舊屋苑樹木倒塌風險較高/2153\">危機處處 THEi研究公共屋邨樹種 舊屋苑樹木倒塌風險較高</a></h6> <div class=\"newsitem-meta\"><div class=\"newsitem-unit\"><a class=\"badge\" href=\"/本地\" js-hex=\"#2350A9\" style=\"background-color: rgb(35, 80, 169);\">本地</a></div> <div class=\"newsitem-time\">2年前</div></div></div></div></li><li class=\"newslist-item\"><div class=\"newsitem\"><figure class=\"newsitem-pic\" js-hex=\"#2350A9\" style=\"border-bottom-color: rgb(35, 80, 169);\"><a href=\"/本地/疫情兇猛-約翰遜-免陷醫療災難-英格蘭再封城/2152\"><img alt=\"疫情兇猛 約翰遜：免陷醫療災難 英格蘭再封城\" class=\"newsitem-img\" src=\"https://d5ttlem47o98b.cloudfront.net/s3fs-public/styles/cover_720_thumbnail/public/styles/banner/public/news_cover/1604253085_Yk.jpg?itok=ROQuSAlb\"/></a> <div class=\"newsitem-type badge-edition bg-slate\"><i class=\"ico ico-newspaper\"></i>日報</div></figure> <div class=\"newsitem-entry\"><h6 class=\"newsitem-title\"><a href=\"/本地/疫情兇猛-約翰遜-免陷醫療災難-英格蘭再封城/2152\">疫情兇猛 約翰遜：免陷醫療災難 英格蘭再封城</a></h6> <div class=\"newsitem-meta\"><div class=\"newsitem-unit\"><a class=\"badge\" href=\"/本地\" js-hex=\"#2350A9\" style=\"background-color: rgb(35, 80, 169);\">本地</a></div> <div class=\"newsitem-time\">2年前</div></div></div></div></li><li class=\"newslist-item\"><div class=\"newsitem\"><figure class=\"newsitem-pic\" js-hex=\"#D51588\" style=\"border-bottom-color: rgb(213, 21, 136);\"><a href=\"/生活/玩樂/城景國際住宿美饌套餐-每晚港幣-480起-長期住宿優惠每月-9-000起/2149\"><img alt=\"城景國際住宿美饌套餐 每晚港幣$480起 長期住宿優惠每月$9,000起\" class=\"newsitem-img\" src=\"https://d5ttlem47o98b.cloudfront.net/s3fs-public/styles/cover_720_thumbnail/public/styles/banner/public/news_cover/1604252353_8a.jpg?itok=fW9CjGcz\"/></a> <div class=\"newsitem-type badge-edition bg-slate\"><i class=\"ico ico-newspaper\"></i>日報</div></figure> <div class=\"newsitem-entry\"><h6 class=\"newsitem-title\"><a href=\"/生活/玩樂/城景國際住宿美饌套餐-每晚港幣-480起-長期住宿優惠每月-9-000起/2149\">城景國際住宿美饌套餐 每晚港幣$480起 長期住宿優惠每月$9,000起</a></h6> <div class=\"newsitem-meta\"><div class=\"newsitem-unit\"><a class=\"badge\" href=\"/生活/玩樂\" js-hex=\"#D51588\" style=\"background-color: rgb(213, 21, 136);\">玩樂</a></div> <div class=\"newsitem-time\">2年前</div></div></div></div></li><li class=\"newslist-item\"><div class=\"newsitem\"><figure class=\"newsitem-pic\" js-hex=\"#D51588\" style=\"border-bottom-color: rgb(213, 21, 136);\"><a href=\"/生活/玩樂/法國大提琴超新星柏斯卡爾-演繹蕭斯達高維契經典/2148\"><img alt=\"法國大提琴超新星柏斯卡爾   演繹蕭斯達高維契經典\" class=\"newsitem-img\" src=\"https://d5ttlem47o98b.cloudfront.net/s3fs-public/styles/cover_720_thumbnail/public/styles/banner/public/news_cover/1604252350_PG.jpg?itok=X658hEgS\"/></a> <div class=\"newsitem-type badge-edition bg-slate\"><i class=\"ico ico-newspaper\"></i>日報</div></figure> <div class=\"newsitem-entry\"><h6 class=\"newsitem-title\"><a href=\"/生活/玩樂/法國大提琴超新星柏斯卡爾-演繹蕭斯達高維契經典/2148\">法國大提琴超新星柏斯卡爾   演繹蕭斯達高維契經典</a></h6> <div class=\"newsitem-meta\"><div class=\"newsitem-unit\"><a class=\"badge\" href=\"/生活/玩樂\" js-hex=\"#D51588\" style=\"background-color: rgb(213, 21, 136);\">玩樂</a></div> <div class=\"newsitem-time\">2年前</div></div></div></div></li></ul></div>"
      ]
     },
     "execution_count": 81,
     "metadata": {},
     "output_type": "execute_result"
    }
   ],
   "source": [
    "content_elements = soup.find_all(class_=\"newslist\")"
   ]
  },
  {
   "cell_type": "code",
   "execution_count": 82,
   "metadata": {},
   "outputs": [
    {
     "data": {
      "text/plain": [
       "['網購墮貨毀賠償連環局-深圳女被騙5萬人民幣',\n",
       " '增61無症狀感染者-新疆喀什疫情蔓延鄰州',\n",
       " '推-安心出行-app記錄行蹤-張建宗-紀錄只存於用戶手機',\n",
       " '港星-旅遊氣泡-望月底實行-邱騰華-最快月中售票',\n",
       " '最後衝刺-美國大選明舉行-特朗普搖擺州催票-奧巴馬助拜登造勢',\n",
       " '歷時7個月始選出主席-內會風波引發推撞',\n",
       " '混亂情況不只一次-李慧琼料議會難回復平靜',\n",
       " '周四提堂-民主派7人涉違特權法被起訴-轟政府濫捕打壓議會抗爭',\n",
       " '袁彌明逆市新店-mi-ming-mart',\n",
       " '銀礦灣staycation爆疫-增7確診1本地無源頭-待遣返內地女患者掃黃被捕',\n",
       " '-玉卿嫂-金馬導演張毅病逝',\n",
       " '未成年誘山下智久開房-飯島愛子被事務所解僱',\n",
       " '蘇皓兒處女下海乜都玩',\n",
       " '黎諾懿加油搶火釀意外',\n",
       " '秦煌跌倒骨裂留院-蔡思貝張振朗勁擔心',\n",
       " '第一代占士邦-辛康納利遺照曝光',\n",
       " '-王冠-第4季揭戴妃秘史',\n",
       " '-鬼滅之刃-破千萬人次紀錄',\n",
       " '白石麻衣開ig-即吸24萬fans',\n",
       " '12gb-ram冰川綠sony-xperia-1-ii開賣-搶先入手送-鬼滅-手機殼',\n",
       " '三機齊發-周四直播預售兼派福利-mi-10t-5g系列到港',\n",
       " '消除黏附病菌-高危場所必備-panasonic-ziaino次氯酸空間除菌脫臭機',\n",
       " '祖達奠勝-菲臘斯穩健-紅軍力挫韋斯咸',\n",
       " '-4場不勝-美斯忟憎省向球證-巴塞18年來西甲最差開季',\n",
       " '北角海逸酒店開放週-2020年11月5至11日-月租服務式住宿只需港幣-9-900起',\n",
       " 'proluxury-普樂氏氣炸鍋-ecliving',\n",
       " '危機處處-thei研究公共屋邨樹種-舊屋苑樹木倒塌風險較高',\n",
       " '疫情兇猛-約翰遜-免陷醫療災難-英格蘭再封城',\n",
       " '城景國際住宿美饌套餐-每晚港幣-480起-長期住宿優惠每月-9-000起',\n",
       " '法國大提琴超新星柏斯卡爾-演繹蕭斯達高維契經典',\n",
       " 'medpro-x-banitore超立體-醫用外科口罩-屈臣氏大優惠',\n",
       " '-house730搵樓大本營-第四季新盤百花齊放-兩大洋房盤接力推',\n",
       " '盡沽廣匯股權-恒大再撲172億',\n",
       " 'h股中籤率勢勝a股-螞蟻破3新股紀錄',\n",
       " '延緩慢性腎病新選擇']"
      ]
     },
     "execution_count": 82,
     "metadata": {},
     "output_type": "execute_result"
    }
   ],
   "source": [
    "for i in range(len(content_elements) - 1):\n",
    "    for j in content_elements[i].find_all(class_=\"newsitem\"):\n",
    "        links.append(base_url + j.findAll(\"a\")[0].get(\"href\"))\n",
    "        topics.append(j.findAll(\"a\")[0].get(\"href\").split(\"/\")[-2])"
   ]
  },
  {
   "cell_type": "code",
   "execution_count": 83,
   "metadata": {},
   "outputs": [
    {
     "data": {
      "text/plain": [
       "[<div class=\"columnlist\"><ul class=\"columnlist-row\"><li class=\"columnlist-item\"><div class=\"columnitem2\" js-hex=\"#384264\" style=\"border-bottom-color: rgb(56, 66, 100);\"><div class=\"columnitem2-entry\"><figure class=\"columnitem2-pic\" js-hex=\"#384264\" style=\"border-bottom-color: rgb(56, 66, 100);\"><a href=\"/column/新聞/建制派沒有人才-人才在哪裡/270491\"><img alt=\"Default Image\" class=\"newsitem-img lazy entered loaded\" data-ll-status=\"loaded\" data-src=\"https://d5ttlem47o98b.cloudfront.net/s3fs-public/news_cover/default_img-720x405.png\" src=\"https://d5ttlem47o98b.cloudfront.net/s3fs-public/news_cover/default_img-720x405.png\"/></a> <div class=\"newsitem-type badge-edition bg-slate\"><i class=\"ico ico-newspaper\"></i>日報</div></figure> <h6 class=\"columnitem2-title\"><a href=\"/column/新聞/建制派沒有人才-人才在哪裡/270491\">建制派沒有人才 人才在哪裡</a></h6></div> <div class=\"columnitem2-meta\"><div class=\"columnitem2-unit\"><a class=\"badge\" href=\"/column/新聞\" js-hex=\"#384264\" style=\"background-color: rgb(56, 66, 100);\">新聞</a></div> <div class=\"columnitem2-time\">2年前</div> <a class=\"columnitem2-author\" href=\"/columnist/鈺成其事-曾鈺成/28251\"><div class=\"columnitem2-avatar\"><div class=\"columnitem2-avatar-img\" style='background-image: url(\"https://d5ttlem47o98b.cloudfront.net/s3fs-public/styles/medium/public/news_image/1479489270.png?itok=h70Hx2Sr\");'></div></div> <p class=\"columnitem2-name\">鈺成其事: 曾鈺成</p></a></div></div></li> <li class=\"columnlist-item\"><div class=\"columnitem2\" js-hex=\"#384264\" style=\"border-bottom-color: rgb(56, 66, 100);\"><div class=\"columnitem2-entry\"><figure class=\"columnitem2-pic\" js-hex=\"#384264\" style=\"border-bottom-color: rgb(56, 66, 100);\"><a href=\"/column/新聞/尋求政治庇護的天真想法/270490\"><img alt=\"Default Image\" class=\"newsitem-img lazy entered loaded\" data-ll-status=\"loaded\" data-src=\"https://d5ttlem47o98b.cloudfront.net/s3fs-public/news_cover/default_img-720x405.png\" src=\"https://d5ttlem47o98b.cloudfront.net/s3fs-public/news_cover/default_img-720x405.png\"/></a> <div class=\"newsitem-type badge-edition bg-slate\"><i class=\"ico ico-newspaper\"></i>日報</div></figure> <h6 class=\"columnitem2-title\"><a href=\"/column/新聞/尋求政治庇護的天真想法/270490\">尋求政治庇護的天真想法</a></h6></div> <div class=\"columnitem2-meta\"><div class=\"columnitem2-unit\"><a class=\"badge\" href=\"/column/新聞\" js-hex=\"#384264\" style=\"background-color: rgb(56, 66, 100);\">新聞</a></div> <div class=\"columnitem2-time\">2年前</div> <a class=\"columnitem2-author\" href=\"/columnist/黎sir事務處-黎棟國/28461\"><div class=\"columnitem2-avatar\"><div class=\"columnitem2-avatar-img\" style='background-image: url(\"https://d5ttlem47o98b.cloudfront.net/s3fs-public/styles/medium/public/news_image/1554695635_vH.png?itok=PbrhDxUZ\");'></div></div> <p class=\"columnitem2-name\">黎SIR事務處: 黎棟國</p></a></div></div></li> <li class=\"columnlist-item\"><div class=\"columnitem2\" js-hex=\"#384264\" style=\"border-bottom-color: rgb(56, 66, 100);\"><div class=\"columnitem2-entry\"><figure class=\"columnitem2-pic\" js-hex=\"#384264\" style=\"border-bottom-color: rgb(56, 66, 100);\"><a href=\"/column/新聞/美國大選能解決內部的分歧嗎-/270487\"><img alt=\"Default Image\" class=\"newsitem-img lazy entered loaded\" data-ll-status=\"loaded\" data-src=\"https://d5ttlem47o98b.cloudfront.net/s3fs-public/news_cover/default_img-720x405.png\" src=\"https://d5ttlem47o98b.cloudfront.net/s3fs-public/news_cover/default_img-720x405.png\"/></a> <div class=\"newsitem-type badge-edition bg-slate\"><i class=\"ico ico-newspaper\"></i>日報</div></figure> <h6 class=\"columnitem2-title\"><a href=\"/column/新聞/美國大選能解決內部的分歧嗎-/270487\">美國大選能解決內部的分歧嗎？</a></h6></div> <div class=\"columnitem2-meta\"><div class=\"columnitem2-unit\"><a class=\"badge\" href=\"/column/新聞\" js-hex=\"#384264\" style=\"background-color: rgb(56, 66, 100);\">新聞</a></div> <div class=\"columnitem2-time\">2年前</div> <a class=\"columnitem2-author\" href=\"/columnist/c觀點-施永青/28169\"><div class=\"columnitem2-avatar\"><div class=\"columnitem2-avatar-img\" style='background-image: url(\"https://d5ttlem47o98b.cloudfront.net/s3fs-public/styles/medium/public/news_image/1481182335.png?itok=8SEiqIoP\");'></div></div> <p class=\"columnitem2-name\">C觀點: 施永青</p></a></div></div></li> <li class=\"columnlist-item\"><div class=\"columnitem2\" js-hex=\"#384264\" style=\"border-bottom-color: rgb(56, 66, 100);\"><div class=\"columnitem2-entry\"><figure class=\"columnitem2-pic\" js-hex=\"#384264\" style=\"border-bottom-color: rgb(56, 66, 100);\"><a href=\"/column/新聞/圓頭先生/270486\"><img alt=\"Default Image\" class=\"newsitem-img lazy entered loaded\" data-ll-status=\"loaded\" data-src=\"https://d5ttlem47o98b.cloudfront.net/s3fs-public/news_cover/default_img-720x405.png\" src=\"https://d5ttlem47o98b.cloudfront.net/s3fs-public/news_cover/default_img-720x405.png\"/></a> <div class=\"newsitem-type badge-edition bg-slate\"><i class=\"ico ico-newspaper\"></i>日報</div></figure> <h6 class=\"columnitem2-title\"><a href=\"/column/新聞/圓頭先生/270486\">圓頭先生</a></h6></div> <div class=\"columnitem2-meta\"><div class=\"columnitem2-unit\"><a class=\"badge\" href=\"/column/新聞\" js-hex=\"#384264\" style=\"background-color: rgb(56, 66, 100);\">新聞</a></div> <div class=\"columnitem2-time\">2年前</div> <a class=\"columnitem2-author\" href=\"/columnist/圓頭先生-中中/28239\"><div class=\"columnitem2-avatar\"><div class=\"columnitem2-avatar-img\" style='background-image: url(\"https://d5ttlem47o98b.cloudfront.net/s3fs-public/styles/medium/public/news_image/1481799106.png?itok=5Clz3IFK\");'></div></div> <p class=\"columnitem2-name\">圓頭先生: 中中</p></a></div></div></li></ul></div>,\n",
       " <div class=\"columnlist\"><ul class=\"columnlist-row\"><li class=\"columnlist-item\"><div class=\"columnitem2\" js-hex=\"#384264\" style=\"border-bottom-color: rgb(56, 66, 100);\"><div class=\"columnitem2-entry\"><figure class=\"columnitem2-pic\" js-hex=\"#384264\" style=\"border-bottom-color: rgb(56, 66, 100);\"><a href=\"/column/生活/raf-simons-2021春夏系列-消費青春/270485\"><img alt=\"Default Image\" class=\"newsitem-img\" src=\"https://d5ttlem47o98b.cloudfront.net/s3fs-public/news_cover/default_img-720x405.png\"/></a> <div class=\"newsitem-type badge-edition bg-slate\"><i class=\"ico ico-newspaper\"></i>日報</div></figure> <h6 class=\"columnitem2-title\"><a href=\"/column/生活/raf-simons-2021春夏系列-消費青春/270485\">Raf Simons 2021春夏系列 消費青春</a></h6></div> <div class=\"columnitem2-meta\"><div class=\"columnitem2-unit\"><a class=\"badge\" href=\"/column/生活\" js-hex=\"#384264\" style=\"background-color: rgb(56, 66, 100);\">生活</a></div> <div class=\"columnitem2-time\">2年前</div> <a class=\"columnitem2-author\" href=\"/columnist/fashion-and-the-city/28292\"><div class=\"columnitem2-avatar\"><div class=\"columnitem2-avatar-img\" style='background-image: url(\"https://d5ttlem47o98b.cloudfront.net/s3fs-public/styles/medium/public/news_image/1486367721.jpg?itok=YmFAzOi9\");'></div></div> <p class=\"columnitem2-name\">Fashion and the City</p></a></div></div></li><li class=\"columnlist-item\"><div class=\"columnitem2\" js-hex=\"#384264\" style=\"border-bottom-color: rgb(56, 66, 100);\"><div class=\"columnitem2-entry\"><figure class=\"columnitem2-pic\" js-hex=\"#384264\" style=\"border-bottom-color: rgb(56, 66, 100);\"><a href=\"/column/健康/更年期後出血/270484\"><img alt=\"Default Image\" class=\"newsitem-img\" src=\"https://d5ttlem47o98b.cloudfront.net/s3fs-public/news_cover/default_img-720x405.png\"/></a> <div class=\"newsitem-type badge-edition bg-slate\"><i class=\"ico ico-newspaper\"></i>日報</div></figure> <h6 class=\"columnitem2-title\"><a href=\"/column/健康/更年期後出血/270484\">更年期後出血</a></h6></div> <div class=\"columnitem2-meta\"><div class=\"columnitem2-unit\"><a class=\"badge\" href=\"/column/健康\" js-hex=\"#384264\" style=\"background-color: rgb(56, 66, 100);\">健康</a></div> <div class=\"columnitem2-time\">2年前</div> <a class=\"columnitem2-author\" href=\"/columnist/醫zone-王嬿茵/28820\"><div class=\"columnitem2-avatar\"><div class=\"columnitem2-avatar-img\" style='background-image: url(\"https://d5ttlem47o98b.cloudfront.net/s3fs-public/styles/medium/public/news_image/1603039473_mc.jpg?itok=1w3_hlmk\");'></div></div> <p class=\"columnitem2-name\">醫ZONE: 王嬿茵</p></a></div></div></li><li class=\"columnlist-item\"><div class=\"columnitem2\" js-hex=\"#384264\" style=\"border-bottom-color: rgb(56, 66, 100);\"><div class=\"columnitem2-entry\"><figure class=\"columnitem2-pic\" js-hex=\"#384264\" style=\"border-bottom-color: rgb(56, 66, 100);\"><a href=\"/column/健康/抗疫視像指導運動-助思覺失調患者身心健康/270483\"><img alt=\"Default Image\" class=\"newsitem-img\" src=\"https://d5ttlem47o98b.cloudfront.net/s3fs-public/news_cover/default_img-720x405.png\"/></a> <div class=\"newsitem-type badge-edition bg-slate\"><i class=\"ico ico-newspaper\"></i>日報</div></figure> <h6 class=\"columnitem2-title\"><a href=\"/column/健康/抗疫視像指導運動-助思覺失調患者身心健康/270483\">抗疫視像指導運動 助思覺失調患者身心健康</a></h6></div> <div class=\"columnitem2-meta\"><div class=\"columnitem2-unit\"><a class=\"badge\" href=\"/column/健康\" js-hex=\"#384264\" style=\"background-color: rgb(56, 66, 100);\">健康</a></div> <div class=\"columnitem2-time\">2年前</div> <a class=\"columnitem2-author\" href=\"/columnist/醫理-香港大學李嘉誠醫學院/28353\"><div class=\"columnitem2-avatar\"><div class=\"columnitem2-avatar-img\" style='background-image: url(\"https://d5ttlem47o98b.cloudfront.net/s3fs-public/styles/medium/public/news_image/1566116740_Ki.jpg?itok=dQSwJDZp\");'></div></div> <p class=\"columnitem2-name\">醫理：香港大學李嘉誠醫學院</p></a></div></div></li><li class=\"columnlist-item\"><div class=\"columnitem2\" js-hex=\"#384264\" style=\"border-bottom-color: rgb(56, 66, 100);\"><div class=\"columnitem2-entry\"><figure class=\"columnitem2-pic\" js-hex=\"#384264\" style=\"border-bottom-color: rgb(56, 66, 100);\"><a href=\"/column/新聞/英記茶莊-周年大減價開始/270482\"><img alt=\"Default Image\" class=\"newsitem-img\" src=\"https://d5ttlem47o98b.cloudfront.net/s3fs-public/news_cover/default_img-720x405.png\"/></a> <div class=\"newsitem-type badge-edition bg-slate\"><i class=\"ico ico-newspaper\"></i>日報</div></figure> <h6 class=\"columnitem2-title\"><a href=\"/column/新聞/英記茶莊-周年大減價開始/270482\">英記茶莊 周年大減價開始</a></h6></div> <div class=\"columnitem2-meta\"><div class=\"columnitem2-unit\"><a class=\"badge\" href=\"/column/新聞\" js-hex=\"#384264\" style=\"background-color: rgb(56, 66, 100);\">新聞</a></div> <div class=\"columnitem2-time\">2年前</div> <a class=\"columnitem2-author\" href=\"/columnist/ray手記-ray/28170\"><div class=\"columnitem2-avatar\"><div class=\"columnitem2-avatar-img\" style='background-image: url(\"https://d5ttlem47o98b.cloudfront.net/s3fs-public/styles/medium/public/news_image/1482139042.png?itok=Ew0yWt7g\");'></div></div> <p class=\"columnitem2-name\">Ray手記: Ray</p></a></div></div></li></ul></div>,\n",
       " <div class=\"columnlist\"><ul class=\"columnlist-row\"><li class=\"columnlist-item\"><div class=\"columnitem2\" js-hex=\"#384264\" style=\"border-bottom-color: rgb(56, 66, 100);\"><div class=\"columnitem2-entry\"><figure class=\"columnitem2-pic\" js-hex=\"#384264\" style=\"border-bottom-color: rgb(56, 66, 100);\"><a href=\"/column/生活/伴侶能力低又不長進/270481\"><img alt=\"Default Image\" class=\"newsitem-img\" src=\"https://d5ttlem47o98b.cloudfront.net/s3fs-public/news_cover/default_img-720x405.png\"/></a> <div class=\"newsitem-type badge-edition bg-slate\"><i class=\"ico ico-newspaper\"></i>日報</div></figure> <h6 class=\"columnitem2-title\"><a href=\"/column/生活/伴侶能力低又不長進/270481\">伴侶能力低又不長進</a></h6></div> <div class=\"columnitem2-meta\"><div class=\"columnitem2-unit\"><a class=\"badge\" href=\"/column/生活\" js-hex=\"#384264\" style=\"background-color: rgb(56, 66, 100);\">生活</a></div> <div class=\"columnitem2-time\">2年前</div> <a class=\"columnitem2-author\" href=\"/columnist/心事-素黑/28283\"><div class=\"columnitem2-avatar\"><div class=\"columnitem2-avatar-img\" style='background-image: url(\"https://d5ttlem47o98b.cloudfront.net/s3fs-public/styles/medium/public/news_image/1506306975_gq.png?itok=pg8Eh7U8\");'></div></div> <p class=\"columnitem2-name\">心事: 素黑</p></a></div></div></li><li class=\"columnlist-item\"><div class=\"columnitem2\" js-hex=\"#384264\" style=\"border-bottom-color: rgb(56, 66, 100);\"><div class=\"columnitem2-entry\"><figure class=\"columnitem2-pic\" js-hex=\"#384264\" style=\"border-bottom-color: rgb(56, 66, 100);\"><a href=\"/column/生活/一客煲仔飯逼近全日熱量/270480\"><img alt=\"Default Image\" class=\"newsitem-img\" src=\"https://d5ttlem47o98b.cloudfront.net/s3fs-public/news_cover/default_img-720x405.png\"/></a> <div class=\"newsitem-type badge-edition bg-slate\"><i class=\"ico ico-newspaper\"></i>日報</div></figure> <h6 class=\"columnitem2-title\"><a href=\"/column/生活/一客煲仔飯逼近全日熱量/270480\">一客煲仔飯逼近全日熱量</a></h6></div> <div class=\"columnitem2-meta\"><div class=\"columnitem2-unit\"><a class=\"badge\" href=\"/column/生活\" js-hex=\"#384264\" style=\"background-color: rgb(56, 66, 100);\">生活</a></div> <div class=\"columnitem2-time\">2年前</div> <a class=\"columnitem2-author\" href=\"/columnist/黃凱詩/28284\"><div class=\"columnitem2-avatar\"><div class=\"columnitem2-avatar-img\" style='background-image: url(\"https://d5ttlem47o98b.cloudfront.net/s3fs-public/styles/medium/public/news_image/1484559759.png?itok=Ce8V99FL\");'></div></div> <p class=\"columnitem2-name\">黃凱詩</p></a></div></div></li><li class=\"columnlist-item\"><div class=\"columnitem2\" js-hex=\"#384264\" style=\"border-bottom-color: rgb(56, 66, 100);\"><div class=\"columnitem2-entry\"><figure class=\"columnitem2-pic\" js-hex=\"#384264\" style=\"border-bottom-color: rgb(56, 66, 100);\"><a href=\"/column/財經/人口失蹤/270479\"><img alt=\"Default Image\" class=\"newsitem-img\" src=\"https://d5ttlem47o98b.cloudfront.net/s3fs-public/news_cover/default_img-720x405.png\"/></a> <div class=\"newsitem-type badge-edition bg-slate\"><i class=\"ico ico-newspaper\"></i>日報</div></figure> <h6 class=\"columnitem2-title\"><a href=\"/column/財經/人口失蹤/270479\">人口失蹤</a></h6></div> <div class=\"columnitem2-meta\"><div class=\"columnitem2-unit\"><a class=\"badge\" href=\"/column/財經\" js-hex=\"#384264\" style=\"background-color: rgb(56, 66, 100);\">財經</a></div> <div class=\"columnitem2-time\">2年前</div> <a class=\"columnitem2-author\" href=\"/columnist/經濟菓人-甘小文/28428\"><div class=\"columnitem2-avatar\"><div class=\"columnitem2-avatar-img\" style='background-image: url(\"https://d5ttlem47o98b.cloudfront.net/s3fs-public/styles/medium/public/news_image/1534282112_X2.jpg?itok=piLMqP8T\");'></div></div> <p class=\"columnitem2-name\">經濟菓人: 甘小文</p></a></div></div></li><li class=\"columnlist-item\"><div class=\"columnitem2\" js-hex=\"#384264\" style=\"border-bottom-color: rgb(56, 66, 100);\"><div class=\"columnitem2-entry\"><figure class=\"columnitem2-pic\" js-hex=\"#384264\" style=\"border-bottom-color: rgb(56, 66, 100);\"><a href=\"/column/財經/疫情下創共贏/270478\"><img alt=\"Default Image\" class=\"newsitem-img\" src=\"https://d5ttlem47o98b.cloudfront.net/s3fs-public/news_cover/default_img-720x405.png\"/></a> <div class=\"newsitem-type badge-edition bg-slate\"><i class=\"ico ico-newspaper\"></i>日報</div></figure> <h6 class=\"columnitem2-title\"><a href=\"/column/財經/疫情下創共贏/270478\">疫情下創共贏</a></h6></div> <div class=\"columnitem2-meta\"><div class=\"columnitem2-unit\"><a class=\"badge\" href=\"/column/財經\" js-hex=\"#384264\" style=\"background-color: rgb(56, 66, 100);\">財經</a></div> <div class=\"columnitem2-time\">2年前</div> <a class=\"columnitem2-author\" href=\"/columnist/不是定理-何民傑/28300\"><div class=\"columnitem2-avatar\"><div class=\"columnitem2-avatar-img\" style='background-image: url(\"https://d5ttlem47o98b.cloudfront.net/s3fs-public/styles/medium/public/news_image/1479702901.png?itok=nJMvHcOL\");'></div></div> <p class=\"columnitem2-name\">不是定理: 何民傑</p></a></div></div></li></ul></div>,\n",
       " <div class=\"columnlist\"><ul class=\"columnlist-row\"><li class=\"columnlist-item\"><div class=\"columnitem2\" js-hex=\"#384264\" style=\"border-bottom-color: rgb(56, 66, 100);\"><div class=\"columnitem2-entry\"><figure class=\"columnitem2-pic\" js-hex=\"#384264\" style=\"border-bottom-color: rgb(56, 66, 100);\"><a href=\"/column/財經/等待買點/270477\"><img alt=\"Default Image\" class=\"newsitem-img\" src=\"https://d5ttlem47o98b.cloudfront.net/s3fs-public/news_cover/default_img-720x405.png\"/></a> <div class=\"newsitem-type badge-edition bg-slate\"><i class=\"ico ico-newspaper\"></i>日報</div></figure> <h6 class=\"columnitem2-title\"><a href=\"/column/財經/等待買點/270477\">等待買點</a></h6></div> <div class=\"columnitem2-meta\"><div class=\"columnitem2-unit\"><a class=\"badge\" href=\"/column/財經\" js-hex=\"#384264\" style=\"background-color: rgb(56, 66, 100);\">財經</a></div> <div class=\"columnitem2-time\">2年前</div> <a class=\"columnitem2-author\" href=\"/columnist/a股北望-宣震/28297\"><div class=\"columnitem2-avatar\"><div class=\"columnitem2-avatar-img\" style='background-image: url(\"https://d5ttlem47o98b.cloudfront.net/s3fs-public/styles/medium/public/news_image/1479704065.png?itok=FhyQCnQ1\");'></div></div> <p class=\"columnitem2-name\">A股北望: 宣震</p></a></div></div></li><li class=\"columnlist-item\"><div class=\"columnitem2\" js-hex=\"#384264\" style=\"border-bottom-color: rgb(56, 66, 100);\"><div class=\"columnitem2-entry\"><figure class=\"columnitem2-pic\" js-hex=\"#384264\" style=\"border-bottom-color: rgb(56, 66, 100);\"><a href=\"/column/財經/美國撕裂會在大選後結束嗎-/270476\"><img alt=\"Default Image\" class=\"newsitem-img\" src=\"https://d5ttlem47o98b.cloudfront.net/s3fs-public/news_cover/default_img-720x405.png\"/></a> <div class=\"newsitem-type badge-edition bg-slate\"><i class=\"ico ico-newspaper\"></i>日報</div></figure> <h6 class=\"columnitem2-title\"><a href=\"/column/財經/美國撕裂會在大選後結束嗎-/270476\">美國撕裂會在大選後結束嗎？</a></h6></div> <div class=\"columnitem2-meta\"><div class=\"columnitem2-unit\"><a class=\"badge\" href=\"/column/財經\" js-hex=\"#384264\" style=\"background-color: rgb(56, 66, 100);\">財經</a></div> <div class=\"columnitem2-time\">2年前</div> <a class=\"columnitem2-author\" href=\"/columnist/免費早餐-梁天卓/28366\"><div class=\"columnitem2-avatar\"><div class=\"columnitem2-avatar-img\" style='background-image: url(\"https://d5ttlem47o98b.cloudfront.net/s3fs-public/styles/medium/public/news_image/1481276046.png?itok=tL7btiY7\");'></div></div> <p class=\"columnitem2-name\">免費早餐: 梁天卓</p></a></div></div></li><li class=\"columnlist-item\"><div class=\"columnitem2\" js-hex=\"#384264\" style=\"border-bottom-color: rgb(56, 66, 100);\"><div class=\"columnitem2-entry\"><figure class=\"columnitem2-pic\" js-hex=\"#384264\" style=\"border-bottom-color: rgb(56, 66, 100);\"><a href=\"/column/新聞/裁員港俊/270475\"><img alt=\"Default Image\" class=\"newsitem-img\" src=\"https://d5ttlem47o98b.cloudfront.net/s3fs-public/news_cover/default_img-720x405.png\"/></a> <div class=\"newsitem-type badge-edition bg-slate\"><i class=\"ico ico-newspaper\"></i>日報</div></figure> <h6 class=\"columnitem2-title\"><a href=\"/column/新聞/裁員港俊/270475\">裁員港俊</a></h6></div> <div class=\"columnitem2-meta\"><div class=\"columnitem2-unit\"><a class=\"badge\" href=\"/column/新聞\" js-hex=\"#384264\" style=\"background-color: rgb(56, 66, 100);\">新聞</a></div> <div class=\"columnitem2-time\">2年前</div> <a class=\"columnitem2-author\" href=\"/columnist/人事擂台-李漢祥/28155\"><div class=\"columnitem2-avatar\"><div class=\"columnitem2-avatar-img\" style='background-image: url(\"https://d5ttlem47o98b.cloudfront.net/s3fs-public/styles/medium/public/news_image/1505113449_Qr.png?itok=zcM2BQHN\");'></div></div> <p class=\"columnitem2-name\">人事擂台: 李漢祥</p></a></div></div></li><li class=\"columnlist-item\"><div class=\"columnitem2\" js-hex=\"#384264\" style=\"border-bottom-color: rgb(56, 66, 100);\"><div class=\"columnitem2-entry\"><figure class=\"columnitem2-pic\" js-hex=\"#384264\" style=\"border-bottom-color: rgb(56, 66, 100);\"><a href=\"/column/財經/四川天兆豬業-1248-/270474\"><img alt=\"Default Image\" class=\"newsitem-img\" src=\"https://d5ttlem47o98b.cloudfront.net/s3fs-public/news_cover/default_img-720x405.png\"/></a> <div class=\"newsitem-type badge-edition bg-slate\"><i class=\"ico ico-newspaper\"></i>日報</div></figure> <h6 class=\"columnitem2-title\"><a href=\"/column/財經/四川天兆豬業-1248-/270474\">四川天兆豬業(1248)</a></h6></div> <div class=\"columnitem2-meta\"><div class=\"columnitem2-unit\"><a class=\"badge\" href=\"/column/財經\" js-hex=\"#384264\" style=\"background-color: rgb(56, 66, 100);\">財經</a></div> <div class=\"columnitem2-time\">2年前</div> <a class=\"columnitem2-author\" href=\"/columnist/投資專欄-彭偉新/28301\"><div class=\"columnitem2-avatar\"><div class=\"columnitem2-avatar-img\" style='background-image: url(\"https://d5ttlem47o98b.cloudfront.net/s3fs-public/styles/medium/public/news_image/1479704143.png?itok=ksi53nFe\");'></div></div> <p class=\"columnitem2-name\">投資專欄: 彭偉新</p></a></div></div></li></ul></div>,\n",
       " <div class=\"columnlist\"><ul class=\"columnlist-row\"><li class=\"columnlist-item\"><div class=\"columnitem2\" js-hex=\"#384264\" style=\"border-bottom-color: rgb(56, 66, 100);\"><div class=\"columnitem2-entry\"><figure class=\"columnitem2-pic\" js-hex=\"#384264\" style=\"border-bottom-color: rgb(56, 66, 100);\"><a href=\"/column/財經/阿周電視總裁當亞洲小姐評判/270473\"><img alt=\"Default Image\" class=\"newsitem-img\" src=\"https://d5ttlem47o98b.cloudfront.net/s3fs-public/news_cover/default_img-720x405.png\"/></a> <div class=\"newsitem-type badge-edition bg-slate\"><i class=\"ico ico-newspaper\"></i>日報</div></figure> <h6 class=\"columnitem2-title\"><a href=\"/column/財經/阿周電視總裁當亞洲小姐評判/270473\">阿周電視總裁當亞洲小姐評判</a></h6></div> <div class=\"columnitem2-meta\"><div class=\"columnitem2-unit\"><a class=\"badge\" href=\"/column/財經\" js-hex=\"#384264\" style=\"background-color: rgb(56, 66, 100);\">財經</a></div> <div class=\"columnitem2-time\">2年前</div> <a class=\"columnitem2-author\" href=\"/columnist/政經密碼-周顯/28267\"><div class=\"columnitem2-avatar\"><div class=\"columnitem2-avatar-img\" style='background-image: url(\"https://d5ttlem47o98b.cloudfront.net/s3fs-public/styles/medium/public/news_image/1479703460.png?itok=dVSd6DKa\");'></div></div> <p class=\"columnitem2-name\">政經密碼: 周顯</p></a></div></div></li><li class=\"columnlist-item\"><div class=\"columnitem2\" js-hex=\"#384264\" style=\"border-bottom-color: rgb(56, 66, 100);\"><div class=\"columnitem2-entry\"><figure class=\"columnitem2-pic\" js-hex=\"#384264\" style=\"border-bottom-color: rgb(56, 66, 100);\"><a href=\"/column/財經/螞蟻/270472\"><img alt=\"Default Image\" class=\"newsitem-img\" src=\"https://d5ttlem47o98b.cloudfront.net/s3fs-public/news_cover/default_img-720x405.png\"/></a> <div class=\"newsitem-type badge-edition bg-slate\"><i class=\"ico ico-newspaper\"></i>日報</div></figure> <h6 class=\"columnitem2-title\"><a href=\"/column/財經/螞蟻/270472\">螞蟻</a></h6></div> <div class=\"columnitem2-meta\"><div class=\"columnitem2-unit\"><a class=\"badge\" href=\"/column/財經\" js-hex=\"#384264\" style=\"background-color: rgb(56, 66, 100);\">財經</a></div> <div class=\"columnitem2-time\">2年前</div> <a class=\"columnitem2-author\" href=\"/columnist/觀徼集-胡雪姬-/28303\"><div class=\"columnitem2-avatar\"><div class=\"columnitem2-avatar-img\" style='background-image: url(\"https://d5ttlem47o98b.cloudfront.net/s3fs-public/styles/medium/public/news_image/1479703867.png?itok=BO9A68q6\");'></div></div> <p class=\"columnitem2-name\">觀徼集: 胡雪姬 </p></a></div></div></li><li class=\"columnlist-item\"><div class=\"columnitem2\" js-hex=\"#384264\" style=\"border-bottom-color: rgb(56, 66, 100);\"><div class=\"columnitem2-entry\"><figure class=\"columnitem2-pic\" js-hex=\"#384264\" style=\"border-bottom-color: rgb(56, 66, 100);\"><a href=\"/column/財經/港股通北水資金踴躍/270471\"><img alt=\"Default Image\" class=\"newsitem-img\" src=\"https://d5ttlem47o98b.cloudfront.net/s3fs-public/news_cover/default_img-720x405.png\"/></a> <div class=\"newsitem-type badge-edition bg-slate\"><i class=\"ico ico-newspaper\"></i>日報</div></figure> <h6 class=\"columnitem2-title\"><a href=\"/column/財經/港股通北水資金踴躍/270471\">港股通北水資金踴躍</a></h6></div> <div class=\"columnitem2-meta\"><div class=\"columnitem2-unit\"><a class=\"badge\" href=\"/column/財經\" js-hex=\"#384264\" style=\"background-color: rgb(56, 66, 100);\">財經</a></div> <div class=\"columnitem2-time\">2年前</div> <a class=\"columnitem2-author\" href=\"/columnist/法證巴打-黃集恩/28921\"><div class=\"columnitem2-avatar\"><div class=\"columnitem2-avatar-img\" style='background-image: url(\"https://d5ttlem47o98b.cloudfront.net/s3fs-public/styles/medium/public/news_image/1481189165.png?itok=jz1q6dV3\");'></div></div> <p class=\"columnitem2-name\">法證巴打: 黃集恩</p></a></div></div></li><li class=\"columnlist-item\"><div class=\"columnitem2\" js-hex=\"#384264\" style=\"border-bottom-color: rgb(56, 66, 100);\"><div class=\"columnitem2-entry\"><figure class=\"columnitem2-pic\" js-hex=\"#384264\" style=\"border-bottom-color: rgb(56, 66, 100);\"><a href=\"/column/財經/季節性流感須知/270470\"><img alt=\"Default Image\" class=\"newsitem-img\" src=\"https://d5ttlem47o98b.cloudfront.net/s3fs-public/news_cover/default_img-720x405.png\"/></a> <div class=\"newsitem-type badge-edition bg-slate\"><i class=\"ico ico-newspaper\"></i>日報</div></figure> <h6 class=\"columnitem2-title\"><a href=\"/column/財經/季節性流感須知/270470\">季節性流感須知</a></h6></div> <div class=\"columnitem2-meta\"><div class=\"columnitem2-unit\"><a class=\"badge\" href=\"/column/財經\" js-hex=\"#384264\" style=\"background-color: rgb(56, 66, 100);\">財經</a></div> <div class=\"columnitem2-time\">2年前</div> <a class=\"columnitem2-author\" href=\"/columnist/財富專欄-林禧彥/28798\"><div class=\"columnitem2-avatar\"><div class=\"columnitem2-avatar-img\" style='background-image: url(\"https://d5ttlem47o98b.cloudfront.net/s3fs-public/styles/medium/public/news_image/1581904791_7b.png?itok=n1m5s-nb\");'></div></div> <p class=\"columnitem2-name\">財富專欄: 林禧彥</p></a></div></div></li></ul></div>,\n",
       " <div class=\"columnlist\"><ul class=\"columnlist-row\"><li class=\"columnlist-item\"><div class=\"columnitem2\" js-hex=\"#384264\" style=\"border-bottom-color: rgb(56, 66, 100);\"><div class=\"columnitem2-entry\"><figure class=\"columnitem2-pic\" js-hex=\"#384264\" style=\"border-bottom-color: rgb(56, 66, 100);\"><a href=\"/column/財經/疫後銀行業-將改變及維持不變的五大事情-/270469\"><img alt=\"Default Image\" class=\"newsitem-img\" src=\"https://d5ttlem47o98b.cloudfront.net/s3fs-public/news_cover/default_img-720x405.png\"/></a> <div class=\"newsitem-type badge-edition bg-slate\"><i class=\"ico ico-newspaper\"></i>日報</div></figure> <h6 class=\"columnitem2-title\"><a href=\"/column/財經/疫後銀行業-將改變及維持不變的五大事情-/270469\">疫後銀行業：將改變及維持不變的五大事情 </a></h6></div> <div class=\"columnitem2-meta\"><div class=\"columnitem2-unit\"><a class=\"badge\" href=\"/column/財經\" js-hex=\"#384264\" style=\"background-color: rgb(56, 66, 100);\">財經</a></div> <div class=\"columnitem2-time\">2年前</div> <a class=\"columnitem2-author\" href=\"/columnist/前瞻部署-麥浩宏/28821\"><div class=\"columnitem2-avatar\"><div class=\"columnitem2-avatar-img\" style='background-image: url(\"https://d5ttlem47o98b.cloudfront.net/s3fs-public/styles/medium/public/news_image/1604249348_83.jpg?itok=RR1ntF9X\");'></div></div> <p class=\"columnitem2-name\">前瞻部署: 麥浩宏</p></a></div></div></li></ul></div>]"
      ]
     },
     "execution_count": 83,
     "metadata": {},
     "output_type": "execute_result"
    }
   ],
   "source": [
    "content_elements = soup.find_all(class_=\"columnlist\")"
   ]
  },
  {
   "cell_type": "code",
   "execution_count": 84,
   "metadata": {},
   "outputs": [
    {
     "data": {
      "text/plain": [
       "['網購墮貨毀賠償連環局-深圳女被騙5萬人民幣',\n",
       " '增61無症狀感染者-新疆喀什疫情蔓延鄰州',\n",
       " '推-安心出行-app記錄行蹤-張建宗-紀錄只存於用戶手機',\n",
       " '港星-旅遊氣泡-望月底實行-邱騰華-最快月中售票',\n",
       " '最後衝刺-美國大選明舉行-特朗普搖擺州催票-奧巴馬助拜登造勢',\n",
       " '歷時7個月始選出主席-內會風波引發推撞',\n",
       " '混亂情況不只一次-李慧琼料議會難回復平靜',\n",
       " '周四提堂-民主派7人涉違特權法被起訴-轟政府濫捕打壓議會抗爭',\n",
       " '袁彌明逆市新店-mi-ming-mart',\n",
       " '銀礦灣staycation爆疫-增7確診1本地無源頭-待遣返內地女患者掃黃被捕',\n",
       " '-玉卿嫂-金馬導演張毅病逝',\n",
       " '未成年誘山下智久開房-飯島愛子被事務所解僱',\n",
       " '蘇皓兒處女下海乜都玩',\n",
       " '黎諾懿加油搶火釀意外',\n",
       " '秦煌跌倒骨裂留院-蔡思貝張振朗勁擔心',\n",
       " '第一代占士邦-辛康納利遺照曝光',\n",
       " '-王冠-第4季揭戴妃秘史',\n",
       " '-鬼滅之刃-破千萬人次紀錄',\n",
       " '白石麻衣開ig-即吸24萬fans',\n",
       " '12gb-ram冰川綠sony-xperia-1-ii開賣-搶先入手送-鬼滅-手機殼',\n",
       " '三機齊發-周四直播預售兼派福利-mi-10t-5g系列到港',\n",
       " '消除黏附病菌-高危場所必備-panasonic-ziaino次氯酸空間除菌脫臭機',\n",
       " '祖達奠勝-菲臘斯穩健-紅軍力挫韋斯咸',\n",
       " '-4場不勝-美斯忟憎省向球證-巴塞18年來西甲最差開季',\n",
       " '北角海逸酒店開放週-2020年11月5至11日-月租服務式住宿只需港幣-9-900起',\n",
       " 'proluxury-普樂氏氣炸鍋-ecliving',\n",
       " '危機處處-thei研究公共屋邨樹種-舊屋苑樹木倒塌風險較高',\n",
       " '疫情兇猛-約翰遜-免陷醫療災難-英格蘭再封城',\n",
       " '城景國際住宿美饌套餐-每晚港幣-480起-長期住宿優惠每月-9-000起',\n",
       " '法國大提琴超新星柏斯卡爾-演繹蕭斯達高維契經典',\n",
       " 'medpro-x-banitore超立體-醫用外科口罩-屈臣氏大優惠',\n",
       " '-house730搵樓大本營-第四季新盤百花齊放-兩大洋房盤接力推',\n",
       " '盡沽廣匯股權-恒大再撲172億',\n",
       " 'h股中籤率勢勝a股-螞蟻破3新股紀錄',\n",
       " '延緩慢性腎病新選擇',\n",
       " '建制派沒有人才-人才在哪裡',\n",
       " '尋求政治庇護的天真想法',\n",
       " '美國大選能解決內部的分歧嗎-',\n",
       " '圓頭先生',\n",
       " 'raf-simons-2021春夏系列-消費青春',\n",
       " '更年期後出血',\n",
       " '抗疫視像指導運動-助思覺失調患者身心健康',\n",
       " '英記茶莊-周年大減價開始',\n",
       " '伴侶能力低又不長進',\n",
       " '一客煲仔飯逼近全日熱量',\n",
       " '人口失蹤',\n",
       " '疫情下創共贏',\n",
       " '等待買點',\n",
       " '美國撕裂會在大選後結束嗎-',\n",
       " '裁員港俊',\n",
       " '四川天兆豬業-1248-',\n",
       " '阿周電視總裁當亞洲小姐評判',\n",
       " '螞蟻',\n",
       " '港股通北水資金踴躍',\n",
       " '季節性流感須知',\n",
       " '疫後銀行業-將改變及維持不變的五大事情-']"
      ]
     },
     "execution_count": 84,
     "metadata": {},
     "output_type": "execute_result"
    }
   ],
   "source": [
    "for i in range(len(content_elements)):\n",
    "    for j in content_elements[i].find_all(class_=\"columnitem2\"):\n",
    "        links.append(base_url + j.findAll(\"a\")[0].get(\"href\"))\n",
    "        topics.append(j.findAll(\"a\")[0].get(\"href\").split(\"/\")[-2])"
   ]
  },
  {
   "cell_type": "code",
   "execution_count": 89,
   "metadata": {},
   "outputs": [],
   "source": [
    "folder_path = \"am730/\" + url[-10:] + \"/article\"\n",
    "\n",
    "if not os.path.exists(folder_path):\n",
    "    os.makedirs(folder_path)"
   ]
  },
  {
   "cell_type": "code",
   "execution_count": 87,
   "metadata": {},
   "outputs": [],
   "source": [
    "if len(links) > 40:\n",
    "    links = random.sample(links, 40)"
   ]
  },
  {
   "cell_type": "code",
   "execution_count": 90,
   "metadata": {},
   "outputs": [],
   "source": [
    "file_name = url[-10:] + \"links.txt\"\n",
    "\n",
    "file = open(direct + url[-10:] + \"/\" + file_name, \"w\", encoding='utf-8')\n",
    "\n",
    "for i in links:\n",
    "    file.write(i + \"\\n\")\n",
    "\n",
    "file.close()"
   ]
  },
  {
   "cell_type": "code",
   "execution_count": 91,
   "metadata": {},
   "outputs": [],
   "source": [
    "file_name = url[-10:] + \"topics.txt\"\n",
    "\n",
    "file = open(direct + url[-10:] + \"/\" + file_name, \"w\", encoding='utf-8')\n",
    "\n",
    "for i in topics:\n",
    "    file.write(i + \"\\n\")\n",
    "\n",
    "file.close()"
   ]
  },
  {
   "cell_type": "code",
   "execution_count": 92,
   "metadata": {},
   "outputs": [
    {
     "data": {
      "text/plain": [
       "['https://www.am730.com.hk/本地/危機處處-thei研究公共屋邨樹種-舊屋苑樹木倒塌風險較高/2153',\n",
       " 'https://www.am730.com.hk/column/生活/一客煲仔飯逼近全日熱量/270480',\n",
       " 'https://www.am730.com.hk/娛樂/黎諾懿加油搶火釀意外/2168',\n",
       " 'https://www.am730.com.hk/column/財經/美國撕裂會在大選後結束嗎-/270476',\n",
       " 'https://www.am730.com.hk/本地/增61無症狀感染者-新疆喀什疫情蔓延鄰州/2180',\n",
       " 'https://www.am730.com.hk/娛樂/未成年誘山下智久開房-飯島愛子被事務所解僱/2170',\n",
       " 'https://www.am730.com.hk/財經/h股中籤率勢勝a股-螞蟻破3新股紀錄/2144',\n",
       " 'https://www.am730.com.hk/column/財經/疫情下創共贏/270478',\n",
       " 'https://www.am730.com.hk/娛樂/秦煌跌倒骨裂留院-蔡思貝張振朗勁擔心/2167',\n",
       " 'https://www.am730.com.hk/column/生活/伴侶能力低又不長進/270481',\n",
       " 'https://www.am730.com.hk/column/新聞/建制派沒有人才-人才在哪裡/270491',\n",
       " 'https://www.am730.com.hk/本地/疫情兇猛-約翰遜-免陷醫療災難-英格蘭再封城/2152',\n",
       " 'https://www.am730.com.hk/健康/medpro-x-banitore超立體-醫用外科口罩-屈臣氏大優惠/2147',\n",
       " 'https://www.am730.com.hk/娛樂/第一代占士邦-辛康納利遺照曝光/2165',\n",
       " 'https://www.am730.com.hk/娛樂/白石麻衣開ig-即吸24萬fans/2162',\n",
       " 'https://www.am730.com.hk/體育/祖達奠勝-菲臘斯穩健-紅軍力挫韋斯咸/2157',\n",
       " 'https://www.am730.com.hk/娛樂/-玉卿嫂-金馬導演張毅病逝/2171',\n",
       " 'https://www.am730.com.hk/生活/科技/消除黏附病菌-高危場所必備-panasonic-ziaino次氯酸空間除菌脫臭機/2159',\n",
       " 'https://www.am730.com.hk/column/健康/更年期後出血/270484',\n",
       " 'https://www.am730.com.hk/column/新聞/尋求政治庇護的天真想法/270490',\n",
       " 'https://www.am730.com.hk/本地/銀礦灣staycation爆疫-增7確診1本地無源頭-待遣返內地女患者掃黃被捕/2172',\n",
       " 'https://www.am730.com.hk/column/財經/港股通北水資金踴躍/270471',\n",
       " 'https://www.am730.com.hk/生活/北角海逸酒店開放週-2020年11月5至11日-月租服務式住宿只需港幣-9-900起/2155',\n",
       " 'https://www.am730.com.hk/本地/推-安心出行-app記錄行蹤-張建宗-紀錄只存於用戶手機/2179',\n",
       " 'https://www.am730.com.hk/column/新聞/裁員港俊/270475',\n",
       " 'https://www.am730.com.hk/column/財經/阿周電視總裁當亞洲小姐評判/270473',\n",
       " 'https://www.am730.com.hk/column/財經/人口失蹤/270479',\n",
       " 'https://www.am730.com.hk/本地/歷時7個月始選出主席-內會風波引發推撞/2176',\n",
       " 'https://www.am730.com.hk/column/新聞/英記茶莊-周年大減價開始/270482',\n",
       " 'https://www.am730.com.hk/娛樂/蘇皓兒處女下海乜都玩/2169',\n",
       " 'https://www.am730.com.hk/生活/女生/袁彌明逆市新店-mi-ming-mart/2173',\n",
       " 'https://www.am730.com.hk/column/健康/抗疫視像指導運動-助思覺失調患者身心健康/270483',\n",
       " 'https://www.am730.com.hk/體育/-4場不勝-美斯忟憎省向球證-巴塞18年來西甲最差開季/2156',\n",
       " 'https://www.am730.com.hk/column/新聞/美國大選能解決內部的分歧嗎-/270487',\n",
       " 'https://www.am730.com.hk/本地/混亂情況不只一次-李慧琼料議會難回復平靜/2175',\n",
       " 'https://www.am730.com.hk/本地/網購墮貨毀賠償連環局-深圳女被騙5萬人民幣/2181',\n",
       " 'https://www.am730.com.hk/生活/玩樂/法國大提琴超新星柏斯卡爾-演繹蕭斯達高維契經典/2148',\n",
       " 'https://www.am730.com.hk/健康/延緩慢性腎病新選擇/2143',\n",
       " 'https://www.am730.com.hk/column/財經/等待買點/270477',\n",
       " 'https://www.am730.com.hk/娛樂/-王冠-第4季揭戴妃秘史/2164']"
      ]
     },
     "execution_count": 92,
     "metadata": {},
     "output_type": "execute_result"
    }
   ],
   "source": [
    "#read from links.txt\n",
    "\n",
    "links = []\n",
    "\n",
    "file_name = url[-10:] + \"links.txt\"\n",
    "\n",
    "file = open(direct + url[-10:] + \"/\" + file_name, \"r\", encoding='utf-8')\n",
    "\n",
    "for i in file:\n",
    "    links.append(i.strip())"
   ]
  },
  {
   "cell_type": "code",
   "execution_count": 45,
   "metadata": {},
   "outputs": [],
   "source": [
    "proxy_address = 'brd.superproxy.io'\n",
    "proxy_port = 22225\n",
    "proxy_username = 'brd-customer-hl_4abea413-zone-data_center'\n",
    "proxy_password = 'lmz4ftfwixm4'\n",
    "\n",
    "proxies = {\n",
    "    'http': f'http://{proxy_username}:{proxy_password}@{proxy_address}:{proxy_port}',\n",
    "    'https': f'https://{proxy_username}:{proxy_password}@{proxy_address}:{proxy_port}'\n",
    "}"
   ]
  },
  {
   "cell_type": "code",
   "execution_count": 94,
   "metadata": {},
   "outputs": [
    {
     "ename": "KeyboardInterrupt",
     "evalue": "",
     "output_type": "error",
     "traceback": [
      "\u001b[1;31m---------------------------------------------------------------------------\u001b[0m",
      "\u001b[1;31mKeyboardInterrupt\u001b[0m                         Traceback (most recent call last)",
      "\u001b[1;32mc:\\Users\\walte\\Documents\\CCGL9011\\am730.ipynb Cell 21\u001b[0m line \u001b[0;36m3\n\u001b[0;32m     <a href='vscode-notebook-cell:/c%3A/Users/walte/Documents/CCGL9011/am730.ipynb#X22sZmlsZQ%3D%3D?line=30'>31</a>\u001b[0m     file\u001b[39m.\u001b[39mwrite(j \u001b[39m+\u001b[39m \u001b[39m\"\u001b[39m\u001b[39m\\n\u001b[39;00m\u001b[39m\"\u001b[39m)\n\u001b[0;32m     <a href='vscode-notebook-cell:/c%3A/Users/walte/Documents/CCGL9011/am730.ipynb#X22sZmlsZQ%3D%3D?line=32'>33</a>\u001b[0m file\u001b[39m.\u001b[39mclose()\n\u001b[1;32m---> <a href='vscode-notebook-cell:/c%3A/Users/walte/Documents/CCGL9011/am730.ipynb#X22sZmlsZQ%3D%3D?line=34'>35</a>\u001b[0m time\u001b[39m.\u001b[39;49msleep(\u001b[39m30\u001b[39;49m\u001b[39m*\u001b[39;49mrandom\u001b[39m.\u001b[39;49muniform(\u001b[39m1\u001b[39;49m, \u001b[39m2\u001b[39;49m))\n\u001b[0;32m     <a href='vscode-notebook-cell:/c%3A/Users/walte/Documents/CCGL9011/am730.ipynb#X22sZmlsZQ%3D%3D?line=36'>37</a>\u001b[0m count \u001b[39m+\u001b[39m\u001b[39m=\u001b[39m \u001b[39m1\u001b[39m\n",
      "\u001b[1;31mKeyboardInterrupt\u001b[0m: "
     ]
    }
   ],
   "source": [
    "count = 0\n",
    "\n",
    "for i in links:\n",
    "    if os.path.exists(direct + url[-10:] + \"/article/\" + str(count) + \".txt\"):\n",
    "        count += 1\n",
    "        continue\n",
    "\n",
    "    response = requests.get(i, proxies=proxies)\n",
    "\n",
    "    article = BeautifulSoup(response.content, \"html.parser\")\n",
    "\n",
    "    title = article.find_all(\"h1\")[0].text\n",
    "\n",
    "    aspect = article.find_all(class_=\"article__head-unit\")[0].find_all(\"a\")[0].text\n",
    "\n",
    "    date_and_time = article.find_all(class_=\"article__head-time\")[0].text\n",
    "\n",
    "    content = [ j.text for j in article.find_all(class_=\"article__body\")[0].find_all(\"p\")]\n",
    "\n",
    "    file_name = str(count) + \".txt\"\n",
    "\n",
    "    file = open(\"am730/\"+ date_and_time[:10]  + \"/article/\" + file_name, \"w\", encoding='utf-8')\n",
    "\n",
    "    file.write(title + \"\\n\")\n",
    "\n",
    "    file.write(aspect + \"\\n\")\n",
    "\n",
    "    file.write(date_and_time + \"\\n\")\n",
    "\n",
    "    for j in content:\n",
    "        file.write(j + \"\\n\")\n",
    "\n",
    "    file.close()\n",
    "\n",
    "    time.sleep(30*random.uniform(1, 2))\n",
    "\n",
    "    count += 1\n",
    "\n"
   ]
  }
 ],
 "metadata": {
  "kernelspec": {
   "display_name": "Python 3",
   "language": "python",
   "name": "python3"
  },
  "language_info": {
   "codemirror_mode": {
    "name": "ipython",
    "version": 3
   },
   "file_extension": ".py",
   "mimetype": "text/x-python",
   "name": "python",
   "nbconvert_exporter": "python",
   "pygments_lexer": "ipython3",
   "version": "3.11.6"
  }
 },
 "nbformat": 4,
 "nbformat_minor": 2
}
